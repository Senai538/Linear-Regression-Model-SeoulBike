{
 "cells": [
  {
   "cell_type": "markdown",
   "metadata": {},
   "source": [
    "<img src=\"data:image/jpeg;base64,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\" width=\"400\" height=\"500\">\n",
    "\n",
    "\n",
    "## Project Summary. \n",
    "Trip duration is the most fundamental measure in all modes of transportation. Hence, it is crucial to predict the trip-time precisely for the advancement of Intelligent Transport Systems (ITS) and traveller information systems. In order to predict the trip duration, data mining techniques are employed in this project to predict the trip duration of rental bikes in Seoul Bike sharing system. The prediction is carried out with the combination of Seoul Bike data and weather data.\n",
    "## Please use the Seoul Bike dataset. \n",
    "\n",
    "- What are the factors that influence the number of bikes rented? \n",
    "- Explore the data for outliers and missing values.\n",
    "- Plot the correlation between the variables and state your comments\n",
    "- Please build a linear regression model to predict rented bike count by choosing appropriate independentvariables.\n",
    "- Coment on Model performance by using approapriate diagnostics and measures.\n",
    "\n",
    "Good Luck!"
   ]
  },
  {
   "cell_type": "code",
   "execution_count": 149,
   "metadata": {},
   "outputs": [],
   "source": [
    "import pandas as pd\n",
    "import numpy as np\n",
    "import seaborn as sns\n",
    "import matplotlib.pyplot as plt\n",
    "import sklearn\n",
    "from sklearn.linear_model import LinearRegression"
   ]
  },
  {
   "cell_type": "code",
   "execution_count": 150,
   "metadata": {},
   "outputs": [],
   "source": [
    "df = pd.read_csv(\"SeoulBikeData.csv\")"
   ]
  },
  {
   "cell_type": "code",
   "execution_count": 151,
   "metadata": {},
   "outputs": [
    {
     "data": {
      "text/plain": [
       "(8760, 14)"
      ]
     },
     "execution_count": 151,
     "metadata": {},
     "output_type": "execute_result"
    }
   ],
   "source": [
    "df.shape"
   ]
  },
  {
   "cell_type": "code",
   "execution_count": 152,
   "metadata": {},
   "outputs": [
    {
     "data": {
      "text/html": [
       "<div>\n",
       "<style scoped>\n",
       "    .dataframe tbody tr th:only-of-type {\n",
       "        vertical-align: middle;\n",
       "    }\n",
       "\n",
       "    .dataframe tbody tr th {\n",
       "        vertical-align: top;\n",
       "    }\n",
       "\n",
       "    .dataframe thead th {\n",
       "        text-align: right;\n",
       "    }\n",
       "</style>\n",
       "<table border=\"1\" class=\"dataframe\">\n",
       "  <thead>\n",
       "    <tr style=\"text-align: right;\">\n",
       "      <th></th>\n",
       "      <th>Date</th>\n",
       "      <th>Rented Bike Count</th>\n",
       "      <th>Hour</th>\n",
       "      <th>Temperature(C)</th>\n",
       "      <th>Humidity(%)</th>\n",
       "      <th>Wind speed (m/s)</th>\n",
       "      <th>Visibility (10m)</th>\n",
       "      <th>Dew point temperature(C)</th>\n",
       "      <th>Solar Radiation (MJ/m2)</th>\n",
       "      <th>Rainfall(mm)</th>\n",
       "      <th>Snowfall (cm)</th>\n",
       "      <th>Seasons</th>\n",
       "      <th>Holiday</th>\n",
       "      <th>Functioning Day</th>\n",
       "    </tr>\n",
       "  </thead>\n",
       "  <tbody>\n",
       "    <tr>\n",
       "      <th>0</th>\n",
       "      <td>01/12/2017</td>\n",
       "      <td>254</td>\n",
       "      <td>0</td>\n",
       "      <td>-5.2</td>\n",
       "      <td>37</td>\n",
       "      <td>2.2</td>\n",
       "      <td>2000</td>\n",
       "      <td>-17.6</td>\n",
       "      <td>0.0</td>\n",
       "      <td>0.0</td>\n",
       "      <td>0.0</td>\n",
       "      <td>Winter</td>\n",
       "      <td>No Holiday</td>\n",
       "      <td>Yes</td>\n",
       "    </tr>\n",
       "    <tr>\n",
       "      <th>1</th>\n",
       "      <td>01/12/2017</td>\n",
       "      <td>204</td>\n",
       "      <td>1</td>\n",
       "      <td>-5.5</td>\n",
       "      <td>38</td>\n",
       "      <td>0.8</td>\n",
       "      <td>2000</td>\n",
       "      <td>-17.6</td>\n",
       "      <td>0.0</td>\n",
       "      <td>0.0</td>\n",
       "      <td>0.0</td>\n",
       "      <td>Winter</td>\n",
       "      <td>No Holiday</td>\n",
       "      <td>Yes</td>\n",
       "    </tr>\n",
       "    <tr>\n",
       "      <th>2</th>\n",
       "      <td>01/12/2017</td>\n",
       "      <td>173</td>\n",
       "      <td>2</td>\n",
       "      <td>-6.0</td>\n",
       "      <td>39</td>\n",
       "      <td>1.0</td>\n",
       "      <td>2000</td>\n",
       "      <td>-17.7</td>\n",
       "      <td>0.0</td>\n",
       "      <td>0.0</td>\n",
       "      <td>0.0</td>\n",
       "      <td>Winter</td>\n",
       "      <td>No Holiday</td>\n",
       "      <td>Yes</td>\n",
       "    </tr>\n",
       "    <tr>\n",
       "      <th>3</th>\n",
       "      <td>01/12/2017</td>\n",
       "      <td>107</td>\n",
       "      <td>3</td>\n",
       "      <td>-6.2</td>\n",
       "      <td>40</td>\n",
       "      <td>0.9</td>\n",
       "      <td>2000</td>\n",
       "      <td>-17.6</td>\n",
       "      <td>0.0</td>\n",
       "      <td>0.0</td>\n",
       "      <td>0.0</td>\n",
       "      <td>Winter</td>\n",
       "      <td>No Holiday</td>\n",
       "      <td>Yes</td>\n",
       "    </tr>\n",
       "    <tr>\n",
       "      <th>4</th>\n",
       "      <td>01/12/2017</td>\n",
       "      <td>78</td>\n",
       "      <td>4</td>\n",
       "      <td>-6.0</td>\n",
       "      <td>36</td>\n",
       "      <td>2.3</td>\n",
       "      <td>2000</td>\n",
       "      <td>-18.6</td>\n",
       "      <td>0.0</td>\n",
       "      <td>0.0</td>\n",
       "      <td>0.0</td>\n",
       "      <td>Winter</td>\n",
       "      <td>No Holiday</td>\n",
       "      <td>Yes</td>\n",
       "    </tr>\n",
       "  </tbody>\n",
       "</table>\n",
       "</div>"
      ],
      "text/plain": [
       "         Date  Rented Bike Count  Hour  Temperature(C)  Humidity(%)  \\\n",
       "0  01/12/2017                254     0            -5.2           37   \n",
       "1  01/12/2017                204     1            -5.5           38   \n",
       "2  01/12/2017                173     2            -6.0           39   \n",
       "3  01/12/2017                107     3            -6.2           40   \n",
       "4  01/12/2017                 78     4            -6.0           36   \n",
       "\n",
       "   Wind speed (m/s)  Visibility (10m)  Dew point temperature(C)  \\\n",
       "0               2.2              2000                     -17.6   \n",
       "1               0.8              2000                     -17.6   \n",
       "2               1.0              2000                     -17.7   \n",
       "3               0.9              2000                     -17.6   \n",
       "4               2.3              2000                     -18.6   \n",
       "\n",
       "   Solar Radiation (MJ/m2)  Rainfall(mm)  Snowfall (cm) Seasons     Holiday  \\\n",
       "0                      0.0           0.0            0.0  Winter  No Holiday   \n",
       "1                      0.0           0.0            0.0  Winter  No Holiday   \n",
       "2                      0.0           0.0            0.0  Winter  No Holiday   \n",
       "3                      0.0           0.0            0.0  Winter  No Holiday   \n",
       "4                      0.0           0.0            0.0  Winter  No Holiday   \n",
       "\n",
       "  Functioning Day  \n",
       "0             Yes  \n",
       "1             Yes  \n",
       "2             Yes  \n",
       "3             Yes  \n",
       "4             Yes  "
      ]
     },
     "execution_count": 152,
     "metadata": {},
     "output_type": "execute_result"
    }
   ],
   "source": [
    "df.head()"
   ]
  },
  {
   "cell_type": "markdown",
   "metadata": {},
   "source": []
  },
  {
   "cell_type": "code",
   "execution_count": 153,
   "metadata": {},
   "outputs": [
    {
     "data": {
      "text/html": [
       "<div>\n",
       "<style scoped>\n",
       "    .dataframe tbody tr th:only-of-type {\n",
       "        vertical-align: middle;\n",
       "    }\n",
       "\n",
       "    .dataframe tbody tr th {\n",
       "        vertical-align: top;\n",
       "    }\n",
       "\n",
       "    .dataframe thead th {\n",
       "        text-align: right;\n",
       "    }\n",
       "</style>\n",
       "<table border=\"1\" class=\"dataframe\">\n",
       "  <thead>\n",
       "    <tr style=\"text-align: right;\">\n",
       "      <th></th>\n",
       "      <th>Date</th>\n",
       "      <th>Rented Bike Count</th>\n",
       "      <th>Hour</th>\n",
       "      <th>Temperature(C)</th>\n",
       "      <th>Humidity(%)</th>\n",
       "      <th>Wind speed (m/s)</th>\n",
       "      <th>Visibility (10m)</th>\n",
       "      <th>Dew point temperature(C)</th>\n",
       "      <th>Solar Radiation (MJ/m2)</th>\n",
       "      <th>Rainfall(mm)</th>\n",
       "      <th>Snowfall (cm)</th>\n",
       "      <th>Seasons</th>\n",
       "      <th>Holiday</th>\n",
       "      <th>Functioning Day</th>\n",
       "    </tr>\n",
       "  </thead>\n",
       "  <tbody>\n",
       "    <tr>\n",
       "      <th>8755</th>\n",
       "      <td>30/11/2018</td>\n",
       "      <td>1003</td>\n",
       "      <td>19</td>\n",
       "      <td>4.2</td>\n",
       "      <td>34</td>\n",
       "      <td>2.6</td>\n",
       "      <td>1894</td>\n",
       "      <td>-10.3</td>\n",
       "      <td>0.0</td>\n",
       "      <td>0.0</td>\n",
       "      <td>0.0</td>\n",
       "      <td>Autumn</td>\n",
       "      <td>No Holiday</td>\n",
       "      <td>Yes</td>\n",
       "    </tr>\n",
       "    <tr>\n",
       "      <th>8756</th>\n",
       "      <td>30/11/2018</td>\n",
       "      <td>764</td>\n",
       "      <td>20</td>\n",
       "      <td>3.4</td>\n",
       "      <td>37</td>\n",
       "      <td>2.3</td>\n",
       "      <td>2000</td>\n",
       "      <td>-9.9</td>\n",
       "      <td>0.0</td>\n",
       "      <td>0.0</td>\n",
       "      <td>0.0</td>\n",
       "      <td>Autumn</td>\n",
       "      <td>No Holiday</td>\n",
       "      <td>Yes</td>\n",
       "    </tr>\n",
       "    <tr>\n",
       "      <th>8757</th>\n",
       "      <td>30/11/2018</td>\n",
       "      <td>694</td>\n",
       "      <td>21</td>\n",
       "      <td>2.6</td>\n",
       "      <td>39</td>\n",
       "      <td>0.3</td>\n",
       "      <td>1968</td>\n",
       "      <td>-9.9</td>\n",
       "      <td>0.0</td>\n",
       "      <td>0.0</td>\n",
       "      <td>0.0</td>\n",
       "      <td>Autumn</td>\n",
       "      <td>No Holiday</td>\n",
       "      <td>Yes</td>\n",
       "    </tr>\n",
       "    <tr>\n",
       "      <th>8758</th>\n",
       "      <td>30/11/2018</td>\n",
       "      <td>712</td>\n",
       "      <td>22</td>\n",
       "      <td>2.1</td>\n",
       "      <td>41</td>\n",
       "      <td>1.0</td>\n",
       "      <td>1859</td>\n",
       "      <td>-9.8</td>\n",
       "      <td>0.0</td>\n",
       "      <td>0.0</td>\n",
       "      <td>0.0</td>\n",
       "      <td>Autumn</td>\n",
       "      <td>No Holiday</td>\n",
       "      <td>Yes</td>\n",
       "    </tr>\n",
       "    <tr>\n",
       "      <th>8759</th>\n",
       "      <td>30/11/2018</td>\n",
       "      <td>584</td>\n",
       "      <td>23</td>\n",
       "      <td>1.9</td>\n",
       "      <td>43</td>\n",
       "      <td>1.3</td>\n",
       "      <td>1909</td>\n",
       "      <td>-9.3</td>\n",
       "      <td>0.0</td>\n",
       "      <td>0.0</td>\n",
       "      <td>0.0</td>\n",
       "      <td>Autumn</td>\n",
       "      <td>No Holiday</td>\n",
       "      <td>Yes</td>\n",
       "    </tr>\n",
       "  </tbody>\n",
       "</table>\n",
       "</div>"
      ],
      "text/plain": [
       "            Date  Rented Bike Count  Hour  Temperature(C)  Humidity(%)  \\\n",
       "8755  30/11/2018               1003    19             4.2           34   \n",
       "8756  30/11/2018                764    20             3.4           37   \n",
       "8757  30/11/2018                694    21             2.6           39   \n",
       "8758  30/11/2018                712    22             2.1           41   \n",
       "8759  30/11/2018                584    23             1.9           43   \n",
       "\n",
       "      Wind speed (m/s)  Visibility (10m)  Dew point temperature(C)  \\\n",
       "8755               2.6              1894                     -10.3   \n",
       "8756               2.3              2000                      -9.9   \n",
       "8757               0.3              1968                      -9.9   \n",
       "8758               1.0              1859                      -9.8   \n",
       "8759               1.3              1909                      -9.3   \n",
       "\n",
       "      Solar Radiation (MJ/m2)  Rainfall(mm)  Snowfall (cm) Seasons  \\\n",
       "8755                      0.0           0.0            0.0  Autumn   \n",
       "8756                      0.0           0.0            0.0  Autumn   \n",
       "8757                      0.0           0.0            0.0  Autumn   \n",
       "8758                      0.0           0.0            0.0  Autumn   \n",
       "8759                      0.0           0.0            0.0  Autumn   \n",
       "\n",
       "         Holiday Functioning Day  \n",
       "8755  No Holiday             Yes  \n",
       "8756  No Holiday             Yes  \n",
       "8757  No Holiday             Yes  \n",
       "8758  No Holiday             Yes  \n",
       "8759  No Holiday             Yes  "
      ]
     },
     "execution_count": 153,
     "metadata": {},
     "output_type": "execute_result"
    }
   ],
   "source": [
    "df.tail()"
   ]
  },
  {
   "cell_type": "code",
   "execution_count": 154,
   "metadata": {
    "scrolled": true
   },
   "outputs": [
    {
     "name": "stdout",
     "output_type": "stream",
     "text": [
      "<class 'pandas.core.frame.DataFrame'>\n",
      "RangeIndex: 8760 entries, 0 to 8759\n",
      "Data columns (total 14 columns):\n",
      " #   Column                    Non-Null Count  Dtype  \n",
      "---  ------                    --------------  -----  \n",
      " 0   Date                      8760 non-null   object \n",
      " 1   Rented Bike Count         8760 non-null   int64  \n",
      " 2   Hour                      8760 non-null   int64  \n",
      " 3   Temperature(C)            8760 non-null   float64\n",
      " 4   Humidity(%)               8760 non-null   int64  \n",
      " 5   Wind speed (m/s)          8760 non-null   float64\n",
      " 6   Visibility (10m)          8760 non-null   int64  \n",
      " 7   Dew point temperature(C)  8760 non-null   float64\n",
      " 8   Solar Radiation (MJ/m2)   8760 non-null   float64\n",
      " 9   Rainfall(mm)              8760 non-null   float64\n",
      " 10  Snowfall (cm)             8760 non-null   float64\n",
      " 11  Seasons                   8760 non-null   object \n",
      " 12  Holiday                   8760 non-null   object \n",
      " 13  Functioning Day           8760 non-null   object \n",
      "dtypes: float64(6), int64(4), object(4)\n",
      "memory usage: 958.2+ KB\n"
     ]
    }
   ],
   "source": [
    "df.info()"
   ]
  },
  {
   "cell_type": "code",
   "execution_count": 155,
   "metadata": {},
   "outputs": [
    {
     "data": {
      "text/plain": [
       "Date                        0\n",
       "Rented Bike Count           0\n",
       "Hour                        0\n",
       "Temperature(C)              0\n",
       "Humidity(%)                 0\n",
       "Wind speed (m/s)            0\n",
       "Visibility (10m)            0\n",
       "Dew point temperature(C)    0\n",
       "Solar Radiation (MJ/m2)     0\n",
       "Rainfall(mm)                0\n",
       "Snowfall (cm)               0\n",
       "Seasons                     0\n",
       "Holiday                     0\n",
       "Functioning Day             0\n",
       "dtype: int64"
      ]
     },
     "execution_count": 155,
     "metadata": {},
     "output_type": "execute_result"
    }
   ],
   "source": [
    "miss_val = df.isna().sum()\n",
    "miss_val"
   ]
  },
  {
   "cell_type": "code",
   "execution_count": 156,
   "metadata": {
    "scrolled": true
   },
   "outputs": [
    {
     "data": {
      "text/html": [
       "<div>\n",
       "<style scoped>\n",
       "    .dataframe tbody tr th:only-of-type {\n",
       "        vertical-align: middle;\n",
       "    }\n",
       "\n",
       "    .dataframe tbody tr th {\n",
       "        vertical-align: top;\n",
       "    }\n",
       "\n",
       "    .dataframe thead th {\n",
       "        text-align: right;\n",
       "    }\n",
       "</style>\n",
       "<table border=\"1\" class=\"dataframe\">\n",
       "  <thead>\n",
       "    <tr style=\"text-align: right;\">\n",
       "      <th></th>\n",
       "      <th>Date</th>\n",
       "      <th>Seasons</th>\n",
       "      <th>Holiday</th>\n",
       "      <th>Functioning Day</th>\n",
       "    </tr>\n",
       "  </thead>\n",
       "  <tbody>\n",
       "    <tr>\n",
       "      <th>count</th>\n",
       "      <td>8760</td>\n",
       "      <td>8760</td>\n",
       "      <td>8760</td>\n",
       "      <td>8760</td>\n",
       "    </tr>\n",
       "    <tr>\n",
       "      <th>unique</th>\n",
       "      <td>365</td>\n",
       "      <td>4</td>\n",
       "      <td>2</td>\n",
       "      <td>2</td>\n",
       "    </tr>\n",
       "    <tr>\n",
       "      <th>top</th>\n",
       "      <td>25/03/2018</td>\n",
       "      <td>Spring</td>\n",
       "      <td>No Holiday</td>\n",
       "      <td>Yes</td>\n",
       "    </tr>\n",
       "    <tr>\n",
       "      <th>freq</th>\n",
       "      <td>24</td>\n",
       "      <td>2208</td>\n",
       "      <td>8328</td>\n",
       "      <td>8465</td>\n",
       "    </tr>\n",
       "  </tbody>\n",
       "</table>\n",
       "</div>"
      ],
      "text/plain": [
       "              Date Seasons     Holiday Functioning Day\n",
       "count         8760    8760        8760            8760\n",
       "unique         365       4           2               2\n",
       "top     25/03/2018  Spring  No Holiday             Yes\n",
       "freq            24    2208        8328            8465"
      ]
     },
     "execution_count": 156,
     "metadata": {},
     "output_type": "execute_result"
    }
   ],
   "source": [
    "df.describe(include=object)"
   ]
  },
  {
   "cell_type": "code",
   "execution_count": 157,
   "metadata": {},
   "outputs": [
    {
     "data": {
      "text/plain": [
       "Index(['Rented Bike Count', 'Hour', 'Temperature(C)', 'Humidity(%)',\n",
       "       'Wind speed (m/s)', 'Visibility (10m)', 'Dew point temperature(C)',\n",
       "       'Solar Radiation (MJ/m2)', 'Rainfall(mm)', 'Snowfall (cm)'],\n",
       "      dtype='object')"
      ]
     },
     "execution_count": 157,
     "metadata": {},
     "output_type": "execute_result"
    }
   ],
   "source": [
    "# filter the numerical features in the dataset using select_dtypes()\n",
    "# include=np.number: selects the numeric features\n",
    "df_numeric_features = df.select_dtypes(include=np.number)\n",
    "\n",
    "# display the numeric features\n",
    "df_numeric_features.columns"
   ]
  },
  {
   "cell_type": "code",
   "execution_count": 158,
   "metadata": {},
   "outputs": [
    {
     "name": "stdout",
     "output_type": "stream",
     "text": [
      "{'Summer', 'Autumn', 'Spring', 'Winter'}\n",
      "{'No Holiday', 'Holiday'}\n",
      "{'Yes', 'No'}\n"
     ]
    }
   ],
   "source": [
    "x = set(df.Seasons)\n",
    "y = set(df.Holiday)\n",
    "z = set(df['Functioning Day'])\n",
    "print(x)\n",
    "print(y)\n",
    "print(z)"
   ]
  },
  {
   "cell_type": "code",
   "execution_count": 159,
   "metadata": {},
   "outputs": [
    {
     "data": {
      "text/html": [
       "<div>\n",
       "<style scoped>\n",
       "    .dataframe tbody tr th:only-of-type {\n",
       "        vertical-align: middle;\n",
       "    }\n",
       "\n",
       "    .dataframe tbody tr th {\n",
       "        vertical-align: top;\n",
       "    }\n",
       "\n",
       "    .dataframe thead th {\n",
       "        text-align: right;\n",
       "    }\n",
       "</style>\n",
       "<table border=\"1\" class=\"dataframe\">\n",
       "  <thead>\n",
       "    <tr style=\"text-align: right;\">\n",
       "      <th></th>\n",
       "      <th>Rented Bike Count</th>\n",
       "    </tr>\n",
       "    <tr>\n",
       "      <th>Seasons</th>\n",
       "      <th></th>\n",
       "    </tr>\n",
       "  </thead>\n",
       "  <tbody>\n",
       "    <tr>\n",
       "      <th>Autumn</th>\n",
       "      <td>1790002</td>\n",
       "    </tr>\n",
       "    <tr>\n",
       "      <th>Spring</th>\n",
       "      <td>1611909</td>\n",
       "    </tr>\n",
       "    <tr>\n",
       "      <th>Summer</th>\n",
       "      <td>2283234</td>\n",
       "    </tr>\n",
       "    <tr>\n",
       "      <th>Winter</th>\n",
       "      <td>487169</td>\n",
       "    </tr>\n",
       "  </tbody>\n",
       "</table>\n",
       "</div>"
      ],
      "text/plain": [
       "         Rented Bike Count\n",
       "Seasons                   \n",
       "Autumn             1790002\n",
       "Spring             1611909\n",
       "Summer             2283234\n",
       "Winter              487169"
      ]
     },
     "execution_count": 159,
     "metadata": {},
     "output_type": "execute_result"
    }
   ],
   "source": [
    "x = df[['Rented Bike Count','Seasons']]\n",
    "x = x.groupby('Seasons').sum()\n",
    "x.head()"
   ]
  },
  {
   "cell_type": "code",
   "execution_count": 160,
   "metadata": {},
   "outputs": [
    {
     "data": {
      "image/png": "[encoded data removed]",
      "text/plain": [
       "<Figure size 432x288 with 1 Axes>"
      ]
     },
     "metadata": {
      "needs_background": "light"
     },
     "output_type": "display_data"
    }
   ],
   "source": [
    "pd.crosstab(df['Seasons'], df['Holiday']).T.plot(kind = 'bar', stacked = False);"
   ]
  },
  {
   "cell_type": "code",
   "execution_count": 161,
   "metadata": {
    "scrolled": true
   },
   "outputs": [
    {
     "data": {
      "text/html": [
       "<div>\n",
       "<style scoped>\n",
       "    .dataframe tbody tr th:only-of-type {\n",
       "        vertical-align: middle;\n",
       "    }\n",
       "\n",
       "    .dataframe tbody tr th {\n",
       "        vertical-align: top;\n",
       "    }\n",
       "\n",
       "    .dataframe thead th {\n",
       "        text-align: right;\n",
       "    }\n",
       "</style>\n",
       "<table border=\"1\" class=\"dataframe\">\n",
       "  <thead>\n",
       "    <tr style=\"text-align: right;\">\n",
       "      <th></th>\n",
       "      <th>Rented Bike Count</th>\n",
       "      <th>Hour</th>\n",
       "      <th>Temperature(C)</th>\n",
       "      <th>Humidity(%)</th>\n",
       "      <th>Wind speed (m/s)</th>\n",
       "      <th>Visibility (10m)</th>\n",
       "      <th>Dew point temperature(C)</th>\n",
       "      <th>Solar Radiation (MJ/m2)</th>\n",
       "      <th>Rainfall(mm)</th>\n",
       "      <th>Snowfall (cm)</th>\n",
       "    </tr>\n",
       "  </thead>\n",
       "  <tbody>\n",
       "    <tr>\n",
       "      <th>count</th>\n",
       "      <td>8760.000000</td>\n",
       "      <td>8760.000000</td>\n",
       "      <td>8760.000000</td>\n",
       "      <td>8760.000000</td>\n",
       "      <td>8760.000000</td>\n",
       "      <td>8760.000000</td>\n",
       "      <td>8760.000000</td>\n",
       "      <td>8760.000000</td>\n",
       "      <td>8760.000000</td>\n",
       "      <td>8760.000000</td>\n",
       "    </tr>\n",
       "    <tr>\n",
       "      <th>mean</th>\n",
       "      <td>704.602055</td>\n",
       "      <td>11.500000</td>\n",
       "      <td>12.882922</td>\n",
       "      <td>58.226256</td>\n",
       "      <td>1.724909</td>\n",
       "      <td>1436.825799</td>\n",
       "      <td>4.073813</td>\n",
       "      <td>0.569111</td>\n",
       "      <td>0.148687</td>\n",
       "      <td>0.075068</td>\n",
       "    </tr>\n",
       "    <tr>\n",
       "      <th>std</th>\n",
       "      <td>644.997468</td>\n",
       "      <td>6.922582</td>\n",
       "      <td>11.944825</td>\n",
       "      <td>20.362413</td>\n",
       "      <td>1.036300</td>\n",
       "      <td>608.298712</td>\n",
       "      <td>13.060369</td>\n",
       "      <td>0.868746</td>\n",
       "      <td>1.128193</td>\n",
       "      <td>0.436746</td>\n",
       "    </tr>\n",
       "    <tr>\n",
       "      <th>min</th>\n",
       "      <td>0.000000</td>\n",
       "      <td>0.000000</td>\n",
       "      <td>-17.800000</td>\n",
       "      <td>0.000000</td>\n",
       "      <td>0.000000</td>\n",
       "      <td>27.000000</td>\n",
       "      <td>-30.600000</td>\n",
       "      <td>0.000000</td>\n",
       "      <td>0.000000</td>\n",
       "      <td>0.000000</td>\n",
       "    </tr>\n",
       "    <tr>\n",
       "      <th>25%</th>\n",
       "      <td>191.000000</td>\n",
       "      <td>5.750000</td>\n",
       "      <td>3.500000</td>\n",
       "      <td>42.000000</td>\n",
       "      <td>0.900000</td>\n",
       "      <td>940.000000</td>\n",
       "      <td>-4.700000</td>\n",
       "      <td>0.000000</td>\n",
       "      <td>0.000000</td>\n",
       "      <td>0.000000</td>\n",
       "    </tr>\n",
       "    <tr>\n",
       "      <th>50%</th>\n",
       "      <td>504.500000</td>\n",
       "      <td>11.500000</td>\n",
       "      <td>13.700000</td>\n",
       "      <td>57.000000</td>\n",
       "      <td>1.500000</td>\n",
       "      <td>1698.000000</td>\n",
       "      <td>5.100000</td>\n",
       "      <td>0.010000</td>\n",
       "      <td>0.000000</td>\n",
       "      <td>0.000000</td>\n",
       "    </tr>\n",
       "    <tr>\n",
       "      <th>75%</th>\n",
       "      <td>1065.250000</td>\n",
       "      <td>17.250000</td>\n",
       "      <td>22.500000</td>\n",
       "      <td>74.000000</td>\n",
       "      <td>2.300000</td>\n",
       "      <td>2000.000000</td>\n",
       "      <td>14.800000</td>\n",
       "      <td>0.930000</td>\n",
       "      <td>0.000000</td>\n",
       "      <td>0.000000</td>\n",
       "    </tr>\n",
       "    <tr>\n",
       "      <th>max</th>\n",
       "      <td>3556.000000</td>\n",
       "      <td>23.000000</td>\n",
       "      <td>39.400000</td>\n",
       "      <td>98.000000</td>\n",
       "      <td>7.400000</td>\n",
       "      <td>2000.000000</td>\n",
       "      <td>27.200000</td>\n",
       "      <td>3.520000</td>\n",
       "      <td>35.000000</td>\n",
       "      <td>8.800000</td>\n",
       "    </tr>\n",
       "  </tbody>\n",
       "</table>\n",
       "</div>"
      ],
      "text/plain": [
       "       Rented Bike Count         Hour  Temperature(C)  Humidity(%)  \\\n",
       "count        8760.000000  8760.000000     8760.000000  8760.000000   \n",
       "mean          704.602055    11.500000       12.882922    58.226256   \n",
       "std           644.997468     6.922582       11.944825    20.362413   \n",
       "min             0.000000     0.000000      -17.800000     0.000000   \n",
       "25%           191.000000     5.750000        3.500000    42.000000   \n",
       "50%           504.500000    11.500000       13.700000    57.000000   \n",
       "75%          1065.250000    17.250000       22.500000    74.000000   \n",
       "max          3556.000000    23.000000       39.400000    98.000000   \n",
       "\n",
       "       Wind speed (m/s)  Visibility (10m)  Dew point temperature(C)  \\\n",
       "count       8760.000000       8760.000000               8760.000000   \n",
       "mean           1.724909       1436.825799                  4.073813   \n",
       "std            1.036300        608.298712                 13.060369   \n",
       "min            0.000000         27.000000                -30.600000   \n",
       "25%            0.900000        940.000000                 -4.700000   \n",
       "50%            1.500000       1698.000000                  5.100000   \n",
       "75%            2.300000       2000.000000                 14.800000   \n",
       "max            7.400000       2000.000000                 27.200000   \n",
       "\n",
       "       Solar Radiation (MJ/m2)  Rainfall(mm)  Snowfall (cm)  \n",
       "count              8760.000000   8760.000000    8760.000000  \n",
       "mean                  0.569111      0.148687       0.075068  \n",
       "std                   0.868746      1.128193       0.436746  \n",
       "min                   0.000000      0.000000       0.000000  \n",
       "25%                   0.000000      0.000000       0.000000  \n",
       "50%                   0.010000      0.000000       0.000000  \n",
       "75%                   0.930000      0.000000       0.000000  \n",
       "max                   3.520000     35.000000       8.800000  "
      ]
     },
     "execution_count": 161,
     "metadata": {},
     "output_type": "execute_result"
    }
   ],
   "source": [
    "df.describe()"
   ]
  },
  {
   "cell_type": "markdown",
   "metadata": {},
   "source": [
    "# A"
   ]
  },
  {
   "cell_type": "code",
   "execution_count": 162,
   "metadata": {},
   "outputs": [
    {
     "data": {
      "text/plain": [
       "<matplotlib.collections.PathCollection at 0x7fc1b84f8bb0>"
      ]
     },
     "execution_count": 162,
     "metadata": {},
     "output_type": "execute_result"
    },
    {
     "data": {
      "image/png": "[encoded data removed]",
      "text/plain": [
       "<Figure size 432x288 with 1 Axes>"
      ]
     },
     "metadata": {
      "needs_background": "light"
     },
     "output_type": "display_data"
    }
   ],
   "source": [
    "%matplotlib inline\n",
    "plt.scatter(df['Temperature(C)'],df['Rented Bike Count'])"
   ]
  },
  {
   "cell_type": "markdown",
   "metadata": {},
   "source": [
    "- Temp and Rented bike share a postive correlation, few outliers but the are in same direction "
   ]
  },
  {
   "cell_type": "code",
   "execution_count": 163,
   "metadata": {},
   "outputs": [
    {
     "data": {
      "text/plain": [
       "<matplotlib.collections.PathCollection at 0x7fc16818e100>"
      ]
     },
     "execution_count": 163,
     "metadata": {},
     "output_type": "execute_result"
    },
    {
     "data": {
      "image/png": "[encoded data removed]",
      "text/plain": [
       "<Figure size 432x288 with 1 Axes>"
      ]
     },
     "metadata": {
      "needs_background": "light"
     },
     "output_type": "display_data"
    }
   ],
   "source": [
    "%matplotlib inline\n",
    "plt.scatter(df['Wind speed (m/s)'],df['Rented Bike Count'])"
   ]
  },
  {
   "cell_type": "markdown",
   "metadata": {},
   "source": [
    "Wind speed and bikes rented show that up until 5m/s there is a positive correlation."
   ]
  },
  {
   "cell_type": "code",
   "execution_count": 164,
   "metadata": {},
   "outputs": [
    {
     "data": {
      "text/plain": [
       "<matplotlib.collections.PathCollection at 0x7fc168495c40>"
      ]
     },
     "execution_count": 164,
     "metadata": {},
     "output_type": "execute_result"
    },
    {
     "data": {
      "image/png": "[encoded data removed]",
      "text/plain": [
       "<Figure size 432x288 with 1 Axes>"
      ]
     },
     "metadata": {
      "needs_background": "light"
     },
     "output_type": "display_data"
    }
   ],
   "source": [
    "%matplotlib inline\n",
    "plt.scatter(df['Visibility (10m)'],df['Rented Bike Count'])"
   ]
  },
  {
   "cell_type": "markdown",
   "metadata": {},
   "source": [
    "This plot shows a positive correlation as well the more visible it is the more bikes are rented."
   ]
  },
  {
   "cell_type": "code",
   "execution_count": 165,
   "metadata": {},
   "outputs": [
    {
     "data": {
      "text/plain": [
       "<matplotlib.collections.PathCollection at 0x7fc1b82017c0>"
      ]
     },
     "execution_count": 165,
     "metadata": {},
     "output_type": "execute_result"
    },
    {
     "data": {
      "image/png": "[encoded data removed]",
      "text/plain": [
       "<Figure size 432x288 with 1 Axes>"
      ]
     },
     "metadata": {
      "needs_background": "light"
     },
     "output_type": "display_data"
    }
   ],
   "source": [
    "%matplotlib inline\n",
    "plt.scatter(df['Rented Bike Count'],df['Dew point temperature(C)'])"
   ]
  },
  {
   "cell_type": "markdown",
   "metadata": {},
   "source": [
    "This one also shows positive correlation meaning the higher the temp the more bikes are rented until around 30dergrees(C)."
   ]
  },
  {
   "cell_type": "code",
   "execution_count": 166,
   "metadata": {},
   "outputs": [
    {
     "data": {
      "text/plain": [
       "<matplotlib.collections.PathCollection at 0x7fc1b84be730>"
      ]
     },
     "execution_count": 166,
     "metadata": {},
     "output_type": "execute_result"
    },
    {
     "data": {
      "image/png": "[encoded data removed]",
      "text/plain": [
       "<Figure size 432x288 with 1 Axes>"
      ]
     },
     "metadata": {
      "needs_background": "light"
     },
     "output_type": "display_data"
    }
   ],
   "source": [
    "%matplotlib inline\n",
    "plt.scatter(df['Rainfall(mm)'],df['Rented Bike Count'])"
   ]
  },
  {
   "cell_type": "markdown",
   "metadata": {},
   "source": [
    "This graph shows that people are more inclided to rent a bike the less (mm) of rainfall there is."
   ]
  },
  {
   "cell_type": "code",
   "execution_count": 167,
   "metadata": {},
   "outputs": [
    {
     "data": {
      "text/plain": [
       "<matplotlib.collections.PathCollection at 0x7fc1b81bae20>"
      ]
     },
     "execution_count": 167,
     "metadata": {},
     "output_type": "execute_result"
    },
    {
     "data": {
      "image/png": "[encoded data removed]",
      "text/plain": [
       "<Figure size 432x288 with 1 Axes>"
      ]
     },
     "metadata": {
      "needs_background": "light"
     },
     "output_type": "display_data"
    }
   ],
   "source": [
    "%matplotlib inline\n",
    "plt.scatter(df['Rented Bike Count'],df['Snowfall (cm)'])"
   ]
  },
  {
   "cell_type": "markdown",
   "metadata": {},
   "source": [
    "Snowfall rarely occurs so its not an important marker but people rent less bikes the more it snows in (cm)"
   ]
  },
  {
   "cell_type": "markdown",
   "metadata": {},
   "source": [
    "Snowfall and Rainfall are the biggest factors in deciding on whether people will rent bikes or not. Temperature, Wind Speed, Dew point Temp, Visibility also play a big role in deciding whether people are more inclined to rent or not. Snowfall only happens a couple times a year so its not as important."
   ]
  },
  {
   "cell_type": "markdown",
   "metadata": {},
   "source": [
    "# B"
   ]
  },
  {
   "cell_type": "code",
   "execution_count": 168,
   "metadata": {},
   "outputs": [
    {
     "data": {
      "text/plain": [
       "Date                        0\n",
       "Rented Bike Count           0\n",
       "Hour                        0\n",
       "Temperature(C)              0\n",
       "Humidity(%)                 0\n",
       "Wind speed (m/s)            0\n",
       "Visibility (10m)            0\n",
       "Dew point temperature(C)    0\n",
       "Solar Radiation (MJ/m2)     0\n",
       "Rainfall(mm)                0\n",
       "Snowfall (cm)               0\n",
       "Seasons                     0\n",
       "Holiday                     0\n",
       "Functioning Day             0\n",
       "dtype: int64"
      ]
     },
     "execution_count": 168,
     "metadata": {},
     "output_type": "execute_result"
    }
   ],
   "source": [
    "miss_val = df.isna().sum()\n",
    "miss_val"
   ]
  },
  {
   "cell_type": "markdown",
   "metadata": {},
   "source": [
    "* No missing values."
   ]
  },
  {
   "cell_type": "code",
   "execution_count": 169,
   "metadata": {},
   "outputs": [
    {
     "data": {
      "text/plain": [
       "Series([], dtype: int64)"
      ]
     },
     "execution_count": 169,
     "metadata": {},
     "output_type": "execute_result"
    }
   ],
   "source": [
    "miss_val[miss_val>0].sort_values(ascending = False)"
   ]
  },
  {
   "cell_type": "code",
   "execution_count": 170,
   "metadata": {},
   "outputs": [
    {
     "data": {
      "text/plain": [
       "3168.892"
      ]
     },
     "execution_count": 170,
     "metadata": {},
     "output_type": "execute_result"
    }
   ],
   "source": [
    "max_threshold= df['Rented Bike Count'].quantile(.998)\n",
    "max_threshold"
   ]
  },
  {
   "cell_type": "code",
   "execution_count": 171,
   "metadata": {},
   "outputs": [
    {
     "data": {
      "text/html": [
       "<div>\n",
       "<style scoped>\n",
       "    .dataframe tbody tr th:only-of-type {\n",
       "        vertical-align: middle;\n",
       "    }\n",
       "\n",
       "    .dataframe tbody tr th {\n",
       "        vertical-align: top;\n",
       "    }\n",
       "\n",
       "    .dataframe thead th {\n",
       "        text-align: right;\n",
       "    }\n",
       "</style>\n",
       "<table border=\"1\" class=\"dataframe\">\n",
       "  <thead>\n",
       "    <tr style=\"text-align: right;\">\n",
       "      <th></th>\n",
       "      <th>Date</th>\n",
       "      <th>Rented Bike Count</th>\n",
       "      <th>Hour</th>\n",
       "      <th>Temperature(C)</th>\n",
       "      <th>Humidity(%)</th>\n",
       "      <th>Wind speed (m/s)</th>\n",
       "      <th>Visibility (10m)</th>\n",
       "      <th>Dew point temperature(C)</th>\n",
       "      <th>Solar Radiation (MJ/m2)</th>\n",
       "      <th>Rainfall(mm)</th>\n",
       "      <th>Snowfall (cm)</th>\n",
       "      <th>Seasons</th>\n",
       "      <th>Holiday</th>\n",
       "      <th>Functioning Day</th>\n",
       "    </tr>\n",
       "  </thead>\n",
       "  <tbody>\n",
       "    <tr>\n",
       "      <th>4290</th>\n",
       "      <td>28/05/2018</td>\n",
       "      <td>3245</td>\n",
       "      <td>18</td>\n",
       "      <td>26.0</td>\n",
       "      <td>39</td>\n",
       "      <td>2.7</td>\n",
       "      <td>1950</td>\n",
       "      <td>10.9</td>\n",
       "      <td>1.07</td>\n",
       "      <td>0.0</td>\n",
       "      <td>0.0</td>\n",
       "      <td>Spring</td>\n",
       "      <td>No Holiday</td>\n",
       "      <td>Yes</td>\n",
       "    </tr>\n",
       "    <tr>\n",
       "      <th>4338</th>\n",
       "      <td>30/05/2018</td>\n",
       "      <td>3251</td>\n",
       "      <td>18</td>\n",
       "      <td>23.6</td>\n",
       "      <td>42</td>\n",
       "      <td>2.1</td>\n",
       "      <td>2000</td>\n",
       "      <td>9.9</td>\n",
       "      <td>1.23</td>\n",
       "      <td>0.0</td>\n",
       "      <td>0.0</td>\n",
       "      <td>Spring</td>\n",
       "      <td>No Holiday</td>\n",
       "      <td>Yes</td>\n",
       "    </tr>\n",
       "    <tr>\n",
       "      <th>4458</th>\n",
       "      <td>04/06/2018</td>\n",
       "      <td>3380</td>\n",
       "      <td>18</td>\n",
       "      <td>24.4</td>\n",
       "      <td>48</td>\n",
       "      <td>1.9</td>\n",
       "      <td>1998</td>\n",
       "      <td>12.6</td>\n",
       "      <td>0.56</td>\n",
       "      <td>0.0</td>\n",
       "      <td>0.0</td>\n",
       "      <td>Summer</td>\n",
       "      <td>No Holiday</td>\n",
       "      <td>Yes</td>\n",
       "    </tr>\n",
       "    <tr>\n",
       "      <th>4482</th>\n",
       "      <td>05/06/2018</td>\n",
       "      <td>3227</td>\n",
       "      <td>18</td>\n",
       "      <td>27.1</td>\n",
       "      <td>40</td>\n",
       "      <td>2.8</td>\n",
       "      <td>1811</td>\n",
       "      <td>12.3</td>\n",
       "      <td>1.00</td>\n",
       "      <td>0.0</td>\n",
       "      <td>0.0</td>\n",
       "      <td>Summer</td>\n",
       "      <td>No Holiday</td>\n",
       "      <td>Yes</td>\n",
       "    </tr>\n",
       "    <tr>\n",
       "      <th>4530</th>\n",
       "      <td>07/06/2018</td>\n",
       "      <td>3221</td>\n",
       "      <td>18</td>\n",
       "      <td>25.6</td>\n",
       "      <td>57</td>\n",
       "      <td>2.7</td>\n",
       "      <td>1217</td>\n",
       "      <td>16.4</td>\n",
       "      <td>0.96</td>\n",
       "      <td>0.0</td>\n",
       "      <td>0.0</td>\n",
       "      <td>Summer</td>\n",
       "      <td>No Holiday</td>\n",
       "      <td>Yes</td>\n",
       "    </tr>\n",
       "    <tr>\n",
       "      <th>4554</th>\n",
       "      <td>08/06/2018</td>\n",
       "      <td>3309</td>\n",
       "      <td>18</td>\n",
       "      <td>26.2</td>\n",
       "      <td>54</td>\n",
       "      <td>2.2</td>\n",
       "      <td>1183</td>\n",
       "      <td>16.1</td>\n",
       "      <td>0.88</td>\n",
       "      <td>0.0</td>\n",
       "      <td>0.0</td>\n",
       "      <td>Summer</td>\n",
       "      <td>No Holiday</td>\n",
       "      <td>Yes</td>\n",
       "    </tr>\n",
       "    <tr>\n",
       "      <th>4650</th>\n",
       "      <td>12/06/2018</td>\n",
       "      <td>3404</td>\n",
       "      <td>18</td>\n",
       "      <td>24.9</td>\n",
       "      <td>53</td>\n",
       "      <td>3.6</td>\n",
       "      <td>2000</td>\n",
       "      <td>14.6</td>\n",
       "      <td>1.28</td>\n",
       "      <td>0.0</td>\n",
       "      <td>0.0</td>\n",
       "      <td>Summer</td>\n",
       "      <td>No Holiday</td>\n",
       "      <td>Yes</td>\n",
       "    </tr>\n",
       "    <tr>\n",
       "      <th>4818</th>\n",
       "      <td>19/06/2018</td>\n",
       "      <td>3556</td>\n",
       "      <td>18</td>\n",
       "      <td>24.1</td>\n",
       "      <td>57</td>\n",
       "      <td>2.9</td>\n",
       "      <td>1301</td>\n",
       "      <td>15.0</td>\n",
       "      <td>0.56</td>\n",
       "      <td>0.0</td>\n",
       "      <td>0.0</td>\n",
       "      <td>Summer</td>\n",
       "      <td>No Holiday</td>\n",
       "      <td>Yes</td>\n",
       "    </tr>\n",
       "    <tr>\n",
       "      <th>4842</th>\n",
       "      <td>20/06/2018</td>\n",
       "      <td>3384</td>\n",
       "      <td>18</td>\n",
       "      <td>27.0</td>\n",
       "      <td>55</td>\n",
       "      <td>3.1</td>\n",
       "      <td>1246</td>\n",
       "      <td>17.1</td>\n",
       "      <td>1.26</td>\n",
       "      <td>0.0</td>\n",
       "      <td>0.0</td>\n",
       "      <td>Summer</td>\n",
       "      <td>No Holiday</td>\n",
       "      <td>Yes</td>\n",
       "    </tr>\n",
       "    <tr>\n",
       "      <th>4866</th>\n",
       "      <td>21/06/2018</td>\n",
       "      <td>3418</td>\n",
       "      <td>18</td>\n",
       "      <td>27.8</td>\n",
       "      <td>43</td>\n",
       "      <td>3.0</td>\n",
       "      <td>1933</td>\n",
       "      <td>14.0</td>\n",
       "      <td>1.35</td>\n",
       "      <td>0.0</td>\n",
       "      <td>0.0</td>\n",
       "      <td>Summer</td>\n",
       "      <td>No Holiday</td>\n",
       "      <td>Yes</td>\n",
       "    </tr>\n",
       "    <tr>\n",
       "      <th>4890</th>\n",
       "      <td>22/06/2018</td>\n",
       "      <td>3365</td>\n",
       "      <td>18</td>\n",
       "      <td>29.3</td>\n",
       "      <td>27</td>\n",
       "      <td>3.4</td>\n",
       "      <td>1977</td>\n",
       "      <td>8.3</td>\n",
       "      <td>1.24</td>\n",
       "      <td>0.0</td>\n",
       "      <td>0.0</td>\n",
       "      <td>Summer</td>\n",
       "      <td>No Holiday</td>\n",
       "      <td>Yes</td>\n",
       "    </tr>\n",
       "    <tr>\n",
       "      <th>4962</th>\n",
       "      <td>25/06/2018</td>\n",
       "      <td>3238</td>\n",
       "      <td>18</td>\n",
       "      <td>30.7</td>\n",
       "      <td>43</td>\n",
       "      <td>1.6</td>\n",
       "      <td>931</td>\n",
       "      <td>16.6</td>\n",
       "      <td>0.74</td>\n",
       "      <td>0.0</td>\n",
       "      <td>0.0</td>\n",
       "      <td>Summer</td>\n",
       "      <td>No Holiday</td>\n",
       "      <td>Yes</td>\n",
       "    </tr>\n",
       "    <tr>\n",
       "      <th>5010</th>\n",
       "      <td>27/06/2018</td>\n",
       "      <td>3172</td>\n",
       "      <td>18</td>\n",
       "      <td>25.0</td>\n",
       "      <td>69</td>\n",
       "      <td>1.5</td>\n",
       "      <td>1125</td>\n",
       "      <td>18.9</td>\n",
       "      <td>0.52</td>\n",
       "      <td>0.0</td>\n",
       "      <td>0.0</td>\n",
       "      <td>Summer</td>\n",
       "      <td>No Holiday</td>\n",
       "      <td>Yes</td>\n",
       "    </tr>\n",
       "    <tr>\n",
       "      <th>5226</th>\n",
       "      <td>06/07/2018</td>\n",
       "      <td>3196</td>\n",
       "      <td>18</td>\n",
       "      <td>25.9</td>\n",
       "      <td>52</td>\n",
       "      <td>2.1</td>\n",
       "      <td>2000</td>\n",
       "      <td>15.2</td>\n",
       "      <td>0.57</td>\n",
       "      <td>0.0</td>\n",
       "      <td>0.0</td>\n",
       "      <td>Summer</td>\n",
       "      <td>No Holiday</td>\n",
       "      <td>Yes</td>\n",
       "    </tr>\n",
       "    <tr>\n",
       "      <th>6810</th>\n",
       "      <td>10/09/2018</td>\n",
       "      <td>3298</td>\n",
       "      <td>18</td>\n",
       "      <td>25.9</td>\n",
       "      <td>42</td>\n",
       "      <td>1.1</td>\n",
       "      <td>2000</td>\n",
       "      <td>11.9</td>\n",
       "      <td>0.48</td>\n",
       "      <td>0.0</td>\n",
       "      <td>0.0</td>\n",
       "      <td>Autumn</td>\n",
       "      <td>No Holiday</td>\n",
       "      <td>Yes</td>\n",
       "    </tr>\n",
       "    <tr>\n",
       "      <th>6834</th>\n",
       "      <td>11/09/2018</td>\n",
       "      <td>3222</td>\n",
       "      <td>18</td>\n",
       "      <td>24.7</td>\n",
       "      <td>45</td>\n",
       "      <td>0.7</td>\n",
       "      <td>2000</td>\n",
       "      <td>11.9</td>\n",
       "      <td>0.30</td>\n",
       "      <td>0.0</td>\n",
       "      <td>0.0</td>\n",
       "      <td>Autumn</td>\n",
       "      <td>No Holiday</td>\n",
       "      <td>Yes</td>\n",
       "    </tr>\n",
       "    <tr>\n",
       "      <th>6858</th>\n",
       "      <td>12/09/2018</td>\n",
       "      <td>3256</td>\n",
       "      <td>18</td>\n",
       "      <td>27.0</td>\n",
       "      <td>44</td>\n",
       "      <td>1.4</td>\n",
       "      <td>2000</td>\n",
       "      <td>13.6</td>\n",
       "      <td>0.62</td>\n",
       "      <td>0.0</td>\n",
       "      <td>0.0</td>\n",
       "      <td>Autumn</td>\n",
       "      <td>No Holiday</td>\n",
       "      <td>Yes</td>\n",
       "    </tr>\n",
       "    <tr>\n",
       "      <th>6978</th>\n",
       "      <td>17/09/2018</td>\n",
       "      <td>3277</td>\n",
       "      <td>18</td>\n",
       "      <td>25.3</td>\n",
       "      <td>56</td>\n",
       "      <td>2.8</td>\n",
       "      <td>1992</td>\n",
       "      <td>15.8</td>\n",
       "      <td>0.54</td>\n",
       "      <td>0.0</td>\n",
       "      <td>0.0</td>\n",
       "      <td>Autumn</td>\n",
       "      <td>No Holiday</td>\n",
       "      <td>Yes</td>\n",
       "    </tr>\n",
       "  </tbody>\n",
       "</table>\n",
       "</div>"
      ],
      "text/plain": [
       "            Date  Rented Bike Count  Hour  Temperature(C)  Humidity(%)  \\\n",
       "4290  28/05/2018               3245    18            26.0           39   \n",
       "4338  30/05/2018               3251    18            23.6           42   \n",
       "4458  04/06/2018               3380    18            24.4           48   \n",
       "4482  05/06/2018               3227    18            27.1           40   \n",
       "4530  07/06/2018               3221    18            25.6           57   \n",
       "4554  08/06/2018               3309    18            26.2           54   \n",
       "4650  12/06/2018               3404    18            24.9           53   \n",
       "4818  19/06/2018               3556    18            24.1           57   \n",
       "4842  20/06/2018               3384    18            27.0           55   \n",
       "4866  21/06/2018               3418    18            27.8           43   \n",
       "4890  22/06/2018               3365    18            29.3           27   \n",
       "4962  25/06/2018               3238    18            30.7           43   \n",
       "5010  27/06/2018               3172    18            25.0           69   \n",
       "5226  06/07/2018               3196    18            25.9           52   \n",
       "6810  10/09/2018               3298    18            25.9           42   \n",
       "6834  11/09/2018               3222    18            24.7           45   \n",
       "6858  12/09/2018               3256    18            27.0           44   \n",
       "6978  17/09/2018               3277    18            25.3           56   \n",
       "\n",
       "      Wind speed (m/s)  Visibility (10m)  Dew point temperature(C)  \\\n",
       "4290               2.7              1950                      10.9   \n",
       "4338               2.1              2000                       9.9   \n",
       "4458               1.9              1998                      12.6   \n",
       "4482               2.8              1811                      12.3   \n",
       "4530               2.7              1217                      16.4   \n",
       "4554               2.2              1183                      16.1   \n",
       "4650               3.6              2000                      14.6   \n",
       "4818               2.9              1301                      15.0   \n",
       "4842               3.1              1246                      17.1   \n",
       "4866               3.0              1933                      14.0   \n",
       "4890               3.4              1977                       8.3   \n",
       "4962               1.6               931                      16.6   \n",
       "5010               1.5              1125                      18.9   \n",
       "5226               2.1              2000                      15.2   \n",
       "6810               1.1              2000                      11.9   \n",
       "6834               0.7              2000                      11.9   \n",
       "6858               1.4              2000                      13.6   \n",
       "6978               2.8              1992                      15.8   \n",
       "\n",
       "      Solar Radiation (MJ/m2)  Rainfall(mm)  Snowfall (cm) Seasons  \\\n",
       "4290                     1.07           0.0            0.0  Spring   \n",
       "4338                     1.23           0.0            0.0  Spring   \n",
       "4458                     0.56           0.0            0.0  Summer   \n",
       "4482                     1.00           0.0            0.0  Summer   \n",
       "4530                     0.96           0.0            0.0  Summer   \n",
       "4554                     0.88           0.0            0.0  Summer   \n",
       "4650                     1.28           0.0            0.0  Summer   \n",
       "4818                     0.56           0.0            0.0  Summer   \n",
       "4842                     1.26           0.0            0.0  Summer   \n",
       "4866                     1.35           0.0            0.0  Summer   \n",
       "4890                     1.24           0.0            0.0  Summer   \n",
       "4962                     0.74           0.0            0.0  Summer   \n",
       "5010                     0.52           0.0            0.0  Summer   \n",
       "5226                     0.57           0.0            0.0  Summer   \n",
       "6810                     0.48           0.0            0.0  Autumn   \n",
       "6834                     0.30           0.0            0.0  Autumn   \n",
       "6858                     0.62           0.0            0.0  Autumn   \n",
       "6978                     0.54           0.0            0.0  Autumn   \n",
       "\n",
       "         Holiday Functioning Day  \n",
       "4290  No Holiday             Yes  \n",
       "4338  No Holiday             Yes  \n",
       "4458  No Holiday             Yes  \n",
       "4482  No Holiday             Yes  \n",
       "4530  No Holiday             Yes  \n",
       "4554  No Holiday             Yes  \n",
       "4650  No Holiday             Yes  \n",
       "4818  No Holiday             Yes  \n",
       "4842  No Holiday             Yes  \n",
       "4866  No Holiday             Yes  \n",
       "4890  No Holiday             Yes  \n",
       "4962  No Holiday             Yes  \n",
       "5010  No Holiday             Yes  \n",
       "5226  No Holiday             Yes  \n",
       "6810  No Holiday             Yes  \n",
       "6834  No Holiday             Yes  \n",
       "6858  No Holiday             Yes  \n",
       "6978  No Holiday             Yes  "
      ]
     },
     "execution_count": 171,
     "metadata": {},
     "output_type": "execute_result"
    }
   ],
   "source": [
    "df[df['Rented Bike Count']>max_threshold]"
   ]
  },
  {
   "cell_type": "code",
   "execution_count": 172,
   "metadata": {},
   "outputs": [
    {
     "data": {
      "text/plain": [
       "5.0"
      ]
     },
     "execution_count": 172,
     "metadata": {},
     "output_type": "execute_result"
    }
   ],
   "source": [
    "min_threshold= df['Rented Bike Count'].quantile(.035)\n",
    "min_threshold"
   ]
  },
  {
   "cell_type": "code",
   "execution_count": 173,
   "metadata": {},
   "outputs": [
    {
     "data": {
      "text/html": [
       "<div>\n",
       "<style scoped>\n",
       "    .dataframe tbody tr th:only-of-type {\n",
       "        vertical-align: middle;\n",
       "    }\n",
       "\n",
       "    .dataframe tbody tr th {\n",
       "        vertical-align: top;\n",
       "    }\n",
       "\n",
       "    .dataframe thead th {\n",
       "        text-align: right;\n",
       "    }\n",
       "</style>\n",
       "<table border=\"1\" class=\"dataframe\">\n",
       "  <thead>\n",
       "    <tr style=\"text-align: right;\">\n",
       "      <th></th>\n",
       "      <th>Date</th>\n",
       "      <th>Rented Bike Count</th>\n",
       "      <th>Hour</th>\n",
       "      <th>Temperature(C)</th>\n",
       "      <th>Humidity(%)</th>\n",
       "      <th>Wind speed (m/s)</th>\n",
       "      <th>Visibility (10m)</th>\n",
       "      <th>Dew point temperature(C)</th>\n",
       "      <th>Solar Radiation (MJ/m2)</th>\n",
       "      <th>Rainfall(mm)</th>\n",
       "      <th>Snowfall (cm)</th>\n",
       "      <th>Seasons</th>\n",
       "      <th>Holiday</th>\n",
       "      <th>Functioning Day</th>\n",
       "    </tr>\n",
       "  </thead>\n",
       "  <tbody>\n",
       "    <tr>\n",
       "      <th>559</th>\n",
       "      <td>24/12/2017</td>\n",
       "      <td>3</td>\n",
       "      <td>7</td>\n",
       "      <td>4.7</td>\n",
       "      <td>89</td>\n",
       "      <td>1.1</td>\n",
       "      <td>100</td>\n",
       "      <td>3.0</td>\n",
       "      <td>0.00</td>\n",
       "      <td>0.0</td>\n",
       "      <td>0.0</td>\n",
       "      <td>Winter</td>\n",
       "      <td>Holiday</td>\n",
       "      <td>Yes</td>\n",
       "    </tr>\n",
       "    <tr>\n",
       "      <th>560</th>\n",
       "      <td>24/12/2017</td>\n",
       "      <td>4</td>\n",
       "      <td>8</td>\n",
       "      <td>4.6</td>\n",
       "      <td>91</td>\n",
       "      <td>1.7</td>\n",
       "      <td>95</td>\n",
       "      <td>3.2</td>\n",
       "      <td>0.00</td>\n",
       "      <td>0.0</td>\n",
       "      <td>0.0</td>\n",
       "      <td>Winter</td>\n",
       "      <td>Holiday</td>\n",
       "      <td>Yes</td>\n",
       "    </tr>\n",
       "    <tr>\n",
       "      <th>561</th>\n",
       "      <td>24/12/2017</td>\n",
       "      <td>3</td>\n",
       "      <td>9</td>\n",
       "      <td>4.6</td>\n",
       "      <td>94</td>\n",
       "      <td>0.9</td>\n",
       "      <td>90</td>\n",
       "      <td>3.7</td>\n",
       "      <td>0.00</td>\n",
       "      <td>6.4</td>\n",
       "      <td>0.0</td>\n",
       "      <td>Winter</td>\n",
       "      <td>Holiday</td>\n",
       "      <td>Yes</td>\n",
       "    </tr>\n",
       "    <tr>\n",
       "      <th>562</th>\n",
       "      <td>24/12/2017</td>\n",
       "      <td>4</td>\n",
       "      <td>10</td>\n",
       "      <td>4.8</td>\n",
       "      <td>96</td>\n",
       "      <td>0.6</td>\n",
       "      <td>87</td>\n",
       "      <td>4.2</td>\n",
       "      <td>0.04</td>\n",
       "      <td>0.0</td>\n",
       "      <td>0.0</td>\n",
       "      <td>Winter</td>\n",
       "      <td>Holiday</td>\n",
       "      <td>Yes</td>\n",
       "    </tr>\n",
       "    <tr>\n",
       "      <th>564</th>\n",
       "      <td>24/12/2017</td>\n",
       "      <td>4</td>\n",
       "      <td>12</td>\n",
       "      <td>4.1</td>\n",
       "      <td>91</td>\n",
       "      <td>0.8</td>\n",
       "      <td>404</td>\n",
       "      <td>2.7</td>\n",
       "      <td>0.07</td>\n",
       "      <td>9.5</td>\n",
       "      <td>0.0</td>\n",
       "      <td>Winter</td>\n",
       "      <td>Holiday</td>\n",
       "      <td>Yes</td>\n",
       "    </tr>\n",
       "    <tr>\n",
       "      <th>...</th>\n",
       "      <td>...</td>\n",
       "      <td>...</td>\n",
       "      <td>...</td>\n",
       "      <td>...</td>\n",
       "      <td>...</td>\n",
       "      <td>...</td>\n",
       "      <td>...</td>\n",
       "      <td>...</td>\n",
       "      <td>...</td>\n",
       "      <td>...</td>\n",
       "      <td>...</td>\n",
       "      <td>...</td>\n",
       "      <td>...</td>\n",
       "      <td>...</td>\n",
       "    </tr>\n",
       "    <tr>\n",
       "      <th>8251</th>\n",
       "      <td>09/11/2018</td>\n",
       "      <td>0</td>\n",
       "      <td>19</td>\n",
       "      <td>11.9</td>\n",
       "      <td>71</td>\n",
       "      <td>2.7</td>\n",
       "      <td>589</td>\n",
       "      <td>6.7</td>\n",
       "      <td>0.00</td>\n",
       "      <td>0.0</td>\n",
       "      <td>0.0</td>\n",
       "      <td>Autumn</td>\n",
       "      <td>No Holiday</td>\n",
       "      <td>No</td>\n",
       "    </tr>\n",
       "    <tr>\n",
       "      <th>8252</th>\n",
       "      <td>09/11/2018</td>\n",
       "      <td>0</td>\n",
       "      <td>20</td>\n",
       "      <td>11.9</td>\n",
       "      <td>72</td>\n",
       "      <td>2.5</td>\n",
       "      <td>526</td>\n",
       "      <td>7.0</td>\n",
       "      <td>0.00</td>\n",
       "      <td>0.0</td>\n",
       "      <td>0.0</td>\n",
       "      <td>Autumn</td>\n",
       "      <td>No Holiday</td>\n",
       "      <td>No</td>\n",
       "    </tr>\n",
       "    <tr>\n",
       "      <th>8253</th>\n",
       "      <td>09/11/2018</td>\n",
       "      <td>0</td>\n",
       "      <td>21</td>\n",
       "      <td>11.4</td>\n",
       "      <td>74</td>\n",
       "      <td>1.9</td>\n",
       "      <td>498</td>\n",
       "      <td>6.9</td>\n",
       "      <td>0.00</td>\n",
       "      <td>0.0</td>\n",
       "      <td>0.0</td>\n",
       "      <td>Autumn</td>\n",
       "      <td>No Holiday</td>\n",
       "      <td>No</td>\n",
       "    </tr>\n",
       "    <tr>\n",
       "      <th>8254</th>\n",
       "      <td>09/11/2018</td>\n",
       "      <td>0</td>\n",
       "      <td>22</td>\n",
       "      <td>11.2</td>\n",
       "      <td>75</td>\n",
       "      <td>1.7</td>\n",
       "      <td>478</td>\n",
       "      <td>6.9</td>\n",
       "      <td>0.00</td>\n",
       "      <td>0.0</td>\n",
       "      <td>0.0</td>\n",
       "      <td>Autumn</td>\n",
       "      <td>No Holiday</td>\n",
       "      <td>No</td>\n",
       "    </tr>\n",
       "    <tr>\n",
       "      <th>8255</th>\n",
       "      <td>09/11/2018</td>\n",
       "      <td>0</td>\n",
       "      <td>23</td>\n",
       "      <td>10.9</td>\n",
       "      <td>76</td>\n",
       "      <td>1.2</td>\n",
       "      <td>456</td>\n",
       "      <td>6.8</td>\n",
       "      <td>0.00</td>\n",
       "      <td>0.0</td>\n",
       "      <td>0.0</td>\n",
       "      <td>Autumn</td>\n",
       "      <td>No Holiday</td>\n",
       "      <td>No</td>\n",
       "    </tr>\n",
       "  </tbody>\n",
       "</table>\n",
       "<p>305 rows × 14 columns</p>\n",
       "</div>"
      ],
      "text/plain": [
       "            Date  Rented Bike Count  Hour  Temperature(C)  Humidity(%)  \\\n",
       "559   24/12/2017                  3     7             4.7           89   \n",
       "560   24/12/2017                  4     8             4.6           91   \n",
       "561   24/12/2017                  3     9             4.6           94   \n",
       "562   24/12/2017                  4    10             4.8           96   \n",
       "564   24/12/2017                  4    12             4.1           91   \n",
       "...          ...                ...   ...             ...          ...   \n",
       "8251  09/11/2018                  0    19            11.9           71   \n",
       "8252  09/11/2018                  0    20            11.9           72   \n",
       "8253  09/11/2018                  0    21            11.4           74   \n",
       "8254  09/11/2018                  0    22            11.2           75   \n",
       "8255  09/11/2018                  0    23            10.9           76   \n",
       "\n",
       "      Wind speed (m/s)  Visibility (10m)  Dew point temperature(C)  \\\n",
       "559                1.1               100                       3.0   \n",
       "560                1.7                95                       3.2   \n",
       "561                0.9                90                       3.7   \n",
       "562                0.6                87                       4.2   \n",
       "564                0.8               404                       2.7   \n",
       "...                ...               ...                       ...   \n",
       "8251               2.7               589                       6.7   \n",
       "8252               2.5               526                       7.0   \n",
       "8253               1.9               498                       6.9   \n",
       "8254               1.7               478                       6.9   \n",
       "8255               1.2               456                       6.8   \n",
       "\n",
       "      Solar Radiation (MJ/m2)  Rainfall(mm)  Snowfall (cm) Seasons  \\\n",
       "559                      0.00           0.0            0.0  Winter   \n",
       "560                      0.00           0.0            0.0  Winter   \n",
       "561                      0.00           6.4            0.0  Winter   \n",
       "562                      0.04           0.0            0.0  Winter   \n",
       "564                      0.07           9.5            0.0  Winter   \n",
       "...                       ...           ...            ...     ...   \n",
       "8251                     0.00           0.0            0.0  Autumn   \n",
       "8252                     0.00           0.0            0.0  Autumn   \n",
       "8253                     0.00           0.0            0.0  Autumn   \n",
       "8254                     0.00           0.0            0.0  Autumn   \n",
       "8255                     0.00           0.0            0.0  Autumn   \n",
       "\n",
       "         Holiday Functioning Day  \n",
       "559      Holiday             Yes  \n",
       "560      Holiday             Yes  \n",
       "561      Holiday             Yes  \n",
       "562      Holiday             Yes  \n",
       "564      Holiday             Yes  \n",
       "...          ...             ...  \n",
       "8251  No Holiday              No  \n",
       "8252  No Holiday              No  \n",
       "8253  No Holiday              No  \n",
       "8254  No Holiday              No  \n",
       "8255  No Holiday              No  \n",
       "\n",
       "[305 rows x 14 columns]"
      ]
     },
     "execution_count": 173,
     "metadata": {},
     "output_type": "execute_result"
    }
   ],
   "source": [
    "df[df['Rented Bike Count']<min_threshold]"
   ]
  },
  {
   "cell_type": "code",
   "execution_count": 174,
   "metadata": {
    "scrolled": true
   },
   "outputs": [
    {
     "data": {
      "text/plain": [
       "(8760, 14)"
      ]
     },
     "execution_count": 174,
     "metadata": {},
     "output_type": "execute_result"
    }
   ],
   "source": [
    "df.shape"
   ]
  },
  {
   "cell_type": "code",
   "execution_count": 175,
   "metadata": {
    "scrolled": true
   },
   "outputs": [
    {
     "data": {
      "text/html": [
       "<div>\n",
       "<style scoped>\n",
       "    .dataframe tbody tr th:only-of-type {\n",
       "        vertical-align: middle;\n",
       "    }\n",
       "\n",
       "    .dataframe tbody tr th {\n",
       "        vertical-align: top;\n",
       "    }\n",
       "\n",
       "    .dataframe thead th {\n",
       "        text-align: right;\n",
       "    }\n",
       "</style>\n",
       "<table border=\"1\" class=\"dataframe\">\n",
       "  <thead>\n",
       "    <tr style=\"text-align: right;\">\n",
       "      <th></th>\n",
       "      <th>Rented Bike Count</th>\n",
       "      <th>Hour</th>\n",
       "      <th>Temperature(C)</th>\n",
       "      <th>Humidity(%)</th>\n",
       "      <th>Wind speed (m/s)</th>\n",
       "      <th>Visibility (10m)</th>\n",
       "      <th>Dew point temperature(C)</th>\n",
       "      <th>Solar Radiation (MJ/m2)</th>\n",
       "      <th>Rainfall(mm)</th>\n",
       "      <th>Snowfall (cm)</th>\n",
       "    </tr>\n",
       "  </thead>\n",
       "  <tbody>\n",
       "    <tr>\n",
       "      <th>count</th>\n",
       "      <td>8760.000000</td>\n",
       "      <td>8760.000000</td>\n",
       "      <td>8760.000000</td>\n",
       "      <td>8760.000000</td>\n",
       "      <td>8760.000000</td>\n",
       "      <td>8760.000000</td>\n",
       "      <td>8760.000000</td>\n",
       "      <td>8760.000000</td>\n",
       "      <td>8760.000000</td>\n",
       "      <td>8760.000000</td>\n",
       "    </tr>\n",
       "    <tr>\n",
       "      <th>mean</th>\n",
       "      <td>704.602055</td>\n",
       "      <td>11.500000</td>\n",
       "      <td>12.882922</td>\n",
       "      <td>58.226256</td>\n",
       "      <td>1.724909</td>\n",
       "      <td>1436.825799</td>\n",
       "      <td>4.073813</td>\n",
       "      <td>0.569111</td>\n",
       "      <td>0.148687</td>\n",
       "      <td>0.075068</td>\n",
       "    </tr>\n",
       "    <tr>\n",
       "      <th>std</th>\n",
       "      <td>644.997468</td>\n",
       "      <td>6.922582</td>\n",
       "      <td>11.944825</td>\n",
       "      <td>20.362413</td>\n",
       "      <td>1.036300</td>\n",
       "      <td>608.298712</td>\n",
       "      <td>13.060369</td>\n",
       "      <td>0.868746</td>\n",
       "      <td>1.128193</td>\n",
       "      <td>0.436746</td>\n",
       "    </tr>\n",
       "    <tr>\n",
       "      <th>min</th>\n",
       "      <td>0.000000</td>\n",
       "      <td>0.000000</td>\n",
       "      <td>-17.800000</td>\n",
       "      <td>0.000000</td>\n",
       "      <td>0.000000</td>\n",
       "      <td>27.000000</td>\n",
       "      <td>-30.600000</td>\n",
       "      <td>0.000000</td>\n",
       "      <td>0.000000</td>\n",
       "      <td>0.000000</td>\n",
       "    </tr>\n",
       "    <tr>\n",
       "      <th>25%</th>\n",
       "      <td>191.000000</td>\n",
       "      <td>5.750000</td>\n",
       "      <td>3.500000</td>\n",
       "      <td>42.000000</td>\n",
       "      <td>0.900000</td>\n",
       "      <td>940.000000</td>\n",
       "      <td>-4.700000</td>\n",
       "      <td>0.000000</td>\n",
       "      <td>0.000000</td>\n",
       "      <td>0.000000</td>\n",
       "    </tr>\n",
       "    <tr>\n",
       "      <th>50%</th>\n",
       "      <td>504.500000</td>\n",
       "      <td>11.500000</td>\n",
       "      <td>13.700000</td>\n",
       "      <td>57.000000</td>\n",
       "      <td>1.500000</td>\n",
       "      <td>1698.000000</td>\n",
       "      <td>5.100000</td>\n",
       "      <td>0.010000</td>\n",
       "      <td>0.000000</td>\n",
       "      <td>0.000000</td>\n",
       "    </tr>\n",
       "    <tr>\n",
       "      <th>75%</th>\n",
       "      <td>1065.250000</td>\n",
       "      <td>17.250000</td>\n",
       "      <td>22.500000</td>\n",
       "      <td>74.000000</td>\n",
       "      <td>2.300000</td>\n",
       "      <td>2000.000000</td>\n",
       "      <td>14.800000</td>\n",
       "      <td>0.930000</td>\n",
       "      <td>0.000000</td>\n",
       "      <td>0.000000</td>\n",
       "    </tr>\n",
       "    <tr>\n",
       "      <th>max</th>\n",
       "      <td>3556.000000</td>\n",
       "      <td>23.000000</td>\n",
       "      <td>39.400000</td>\n",
       "      <td>98.000000</td>\n",
       "      <td>7.400000</td>\n",
       "      <td>2000.000000</td>\n",
       "      <td>27.200000</td>\n",
       "      <td>3.520000</td>\n",
       "      <td>35.000000</td>\n",
       "      <td>8.800000</td>\n",
       "    </tr>\n",
       "  </tbody>\n",
       "</table>\n",
       "</div>"
      ],
      "text/plain": [
       "       Rented Bike Count         Hour  Temperature(C)  Humidity(%)  \\\n",
       "count        8760.000000  8760.000000     8760.000000  8760.000000   \n",
       "mean          704.602055    11.500000       12.882922    58.226256   \n",
       "std           644.997468     6.922582       11.944825    20.362413   \n",
       "min             0.000000     0.000000      -17.800000     0.000000   \n",
       "25%           191.000000     5.750000        3.500000    42.000000   \n",
       "50%           504.500000    11.500000       13.700000    57.000000   \n",
       "75%          1065.250000    17.250000       22.500000    74.000000   \n",
       "max          3556.000000    23.000000       39.400000    98.000000   \n",
       "\n",
       "       Wind speed (m/s)  Visibility (10m)  Dew point temperature(C)  \\\n",
       "count       8760.000000       8760.000000               8760.000000   \n",
       "mean           1.724909       1436.825799                  4.073813   \n",
       "std            1.036300        608.298712                 13.060369   \n",
       "min            0.000000         27.000000                -30.600000   \n",
       "25%            0.900000        940.000000                 -4.700000   \n",
       "50%            1.500000       1698.000000                  5.100000   \n",
       "75%            2.300000       2000.000000                 14.800000   \n",
       "max            7.400000       2000.000000                 27.200000   \n",
       "\n",
       "       Solar Radiation (MJ/m2)  Rainfall(mm)  Snowfall (cm)  \n",
       "count              8760.000000   8760.000000    8760.000000  \n",
       "mean                  0.569111      0.148687       0.075068  \n",
       "std                   0.868746      1.128193       0.436746  \n",
       "min                   0.000000      0.000000       0.000000  \n",
       "25%                   0.000000      0.000000       0.000000  \n",
       "50%                   0.010000      0.000000       0.000000  \n",
       "75%                   0.930000      0.000000       0.000000  \n",
       "max                   3.520000     35.000000       8.800000  "
      ]
     },
     "execution_count": 175,
     "metadata": {},
     "output_type": "execute_result"
    }
   ],
   "source": [
    "df.describe()"
   ]
  },
  {
   "cell_type": "markdown",
   "metadata": {},
   "source": [
    "# C"
   ]
  },
  {
   "cell_type": "code",
   "execution_count": 176,
   "metadata": {},
   "outputs": [
    {
     "data": {
      "text/plain": [
       "array([[1.        , 0.53855815],\n",
       "       [0.53855815, 1.        ]])"
      ]
     },
     "execution_count": 176,
     "metadata": {},
     "output_type": "execute_result"
    }
   ],
   "source": [
    "np.corrcoef(df['Rented Bike Count'],df['Temperature(C)'])"
   ]
  },
  {
   "cell_type": "code",
   "execution_count": 177,
   "metadata": {},
   "outputs": [
    {
     "name": "stderr",
     "output_type": "stream",
     "text": [
      "/opt/anaconda3/lib/python3.8/site-packages/seaborn/_decorators.py:36: FutureWarning: Pass the following variables as keyword args: x, y. From version 0.12, the only valid positional argument will be `data`, and passing other arguments without an explicit keyword will result in an error or misinterpretation.\n",
      "  warnings.warn(\n"
     ]
    },
    {
     "data": {
      "text/plain": [
       "<AxesSubplot:xlabel='Rented Bike Count', ylabel='Temperature(C)'>"
      ]
     },
     "execution_count": 177,
     "metadata": {},
     "output_type": "execute_result"
    },
    {
     "data": {
      "image/png": "[encoded data removed]",
      "text/plain": [
       "<Figure size 432x288 with 1 Axes>"
      ]
     },
     "metadata": {
      "needs_background": "light"
     },
     "output_type": "display_data"
    }
   ],
   "source": [
    "sns.scatterplot(df['Rented Bike Count'],df['Temperature(C)'])"
   ]
  },
  {
   "cell_type": "code",
   "execution_count": 178,
   "metadata": {},
   "outputs": [
    {
     "data": {
      "text/html": [
       "<div>\n",
       "<style scoped>\n",
       "    .dataframe tbody tr th:only-of-type {\n",
       "        vertical-align: middle;\n",
       "    }\n",
       "\n",
       "    .dataframe tbody tr th {\n",
       "        vertical-align: top;\n",
       "    }\n",
       "\n",
       "    .dataframe thead th {\n",
       "        text-align: right;\n",
       "    }\n",
       "</style>\n",
       "<table border=\"1\" class=\"dataframe\">\n",
       "  <thead>\n",
       "    <tr style=\"text-align: right;\">\n",
       "      <th></th>\n",
       "      <th>Rented Bike Count</th>\n",
       "      <th>Hour</th>\n",
       "      <th>Temperature(C)</th>\n",
       "      <th>Humidity(%)</th>\n",
       "      <th>Wind speed (m/s)</th>\n",
       "      <th>Visibility (10m)</th>\n",
       "      <th>Dew point temperature(C)</th>\n",
       "      <th>Solar Radiation (MJ/m2)</th>\n",
       "      <th>Rainfall(mm)</th>\n",
       "      <th>Snowfall (cm)</th>\n",
       "    </tr>\n",
       "  </thead>\n",
       "  <tbody>\n",
       "    <tr>\n",
       "      <th>Rented Bike Count</th>\n",
       "      <td>1.000000</td>\n",
       "      <td>0.410257</td>\n",
       "      <td>0.538558</td>\n",
       "      <td>-0.199780</td>\n",
       "      <td>0.121108</td>\n",
       "      <td>0.199280</td>\n",
       "      <td>0.379788</td>\n",
       "      <td>0.261837</td>\n",
       "      <td>-0.123074</td>\n",
       "      <td>-0.141804</td>\n",
       "    </tr>\n",
       "    <tr>\n",
       "      <th>Hour</th>\n",
       "      <td>0.410257</td>\n",
       "      <td>1.000000</td>\n",
       "      <td>0.124114</td>\n",
       "      <td>-0.241644</td>\n",
       "      <td>0.285197</td>\n",
       "      <td>0.098753</td>\n",
       "      <td>0.003054</td>\n",
       "      <td>0.145131</td>\n",
       "      <td>0.008715</td>\n",
       "      <td>-0.021516</td>\n",
       "    </tr>\n",
       "    <tr>\n",
       "      <th>Temperature(C)</th>\n",
       "      <td>0.538558</td>\n",
       "      <td>0.124114</td>\n",
       "      <td>1.000000</td>\n",
       "      <td>0.159371</td>\n",
       "      <td>-0.036252</td>\n",
       "      <td>0.034794</td>\n",
       "      <td>0.912798</td>\n",
       "      <td>0.353505</td>\n",
       "      <td>0.050282</td>\n",
       "      <td>-0.218405</td>\n",
       "    </tr>\n",
       "    <tr>\n",
       "      <th>Humidity(%)</th>\n",
       "      <td>-0.199780</td>\n",
       "      <td>-0.241644</td>\n",
       "      <td>0.159371</td>\n",
       "      <td>1.000000</td>\n",
       "      <td>-0.336683</td>\n",
       "      <td>-0.543090</td>\n",
       "      <td>0.536894</td>\n",
       "      <td>-0.461919</td>\n",
       "      <td>0.236397</td>\n",
       "      <td>0.108183</td>\n",
       "    </tr>\n",
       "    <tr>\n",
       "      <th>Wind speed (m/s)</th>\n",
       "      <td>0.121108</td>\n",
       "      <td>0.285197</td>\n",
       "      <td>-0.036252</td>\n",
       "      <td>-0.336683</td>\n",
       "      <td>1.000000</td>\n",
       "      <td>0.171507</td>\n",
       "      <td>-0.176486</td>\n",
       "      <td>0.332274</td>\n",
       "      <td>-0.019674</td>\n",
       "      <td>-0.003554</td>\n",
       "    </tr>\n",
       "    <tr>\n",
       "      <th>Visibility (10m)</th>\n",
       "      <td>0.199280</td>\n",
       "      <td>0.098753</td>\n",
       "      <td>0.034794</td>\n",
       "      <td>-0.543090</td>\n",
       "      <td>0.171507</td>\n",
       "      <td>1.000000</td>\n",
       "      <td>-0.176630</td>\n",
       "      <td>0.149738</td>\n",
       "      <td>-0.167629</td>\n",
       "      <td>-0.121695</td>\n",
       "    </tr>\n",
       "    <tr>\n",
       "      <th>Dew point temperature(C)</th>\n",
       "      <td>0.379788</td>\n",
       "      <td>0.003054</td>\n",
       "      <td>0.912798</td>\n",
       "      <td>0.536894</td>\n",
       "      <td>-0.176486</td>\n",
       "      <td>-0.176630</td>\n",
       "      <td>1.000000</td>\n",
       "      <td>0.094381</td>\n",
       "      <td>0.125597</td>\n",
       "      <td>-0.150887</td>\n",
       "    </tr>\n",
       "    <tr>\n",
       "      <th>Solar Radiation (MJ/m2)</th>\n",
       "      <td>0.261837</td>\n",
       "      <td>0.145131</td>\n",
       "      <td>0.353505</td>\n",
       "      <td>-0.461919</td>\n",
       "      <td>0.332274</td>\n",
       "      <td>0.149738</td>\n",
       "      <td>0.094381</td>\n",
       "      <td>1.000000</td>\n",
       "      <td>-0.074290</td>\n",
       "      <td>-0.072301</td>\n",
       "    </tr>\n",
       "    <tr>\n",
       "      <th>Rainfall(mm)</th>\n",
       "      <td>-0.123074</td>\n",
       "      <td>0.008715</td>\n",
       "      <td>0.050282</td>\n",
       "      <td>0.236397</td>\n",
       "      <td>-0.019674</td>\n",
       "      <td>-0.167629</td>\n",
       "      <td>0.125597</td>\n",
       "      <td>-0.074290</td>\n",
       "      <td>1.000000</td>\n",
       "      <td>0.008500</td>\n",
       "    </tr>\n",
       "    <tr>\n",
       "      <th>Snowfall (cm)</th>\n",
       "      <td>-0.141804</td>\n",
       "      <td>-0.021516</td>\n",
       "      <td>-0.218405</td>\n",
       "      <td>0.108183</td>\n",
       "      <td>-0.003554</td>\n",
       "      <td>-0.121695</td>\n",
       "      <td>-0.150887</td>\n",
       "      <td>-0.072301</td>\n",
       "      <td>0.008500</td>\n",
       "      <td>1.000000</td>\n",
       "    </tr>\n",
       "  </tbody>\n",
       "</table>\n",
       "</div>"
      ],
      "text/plain": [
       "                          Rented Bike Count      Hour  Temperature(C)  \\\n",
       "Rented Bike Count                  1.000000  0.410257        0.538558   \n",
       "Hour                               0.410257  1.000000        0.124114   \n",
       "Temperature(C)                     0.538558  0.124114        1.000000   \n",
       "Humidity(%)                       -0.199780 -0.241644        0.159371   \n",
       "Wind speed (m/s)                   0.121108  0.285197       -0.036252   \n",
       "Visibility (10m)                   0.199280  0.098753        0.034794   \n",
       "Dew point temperature(C)           0.379788  0.003054        0.912798   \n",
       "Solar Radiation (MJ/m2)            0.261837  0.145131        0.353505   \n",
       "Rainfall(mm)                      -0.123074  0.008715        0.050282   \n",
       "Snowfall (cm)                     -0.141804 -0.021516       -0.218405   \n",
       "\n",
       "                          Humidity(%)  Wind speed (m/s)  Visibility (10m)  \\\n",
       "Rented Bike Count           -0.199780          0.121108          0.199280   \n",
       "Hour                        -0.241644          0.285197          0.098753   \n",
       "Temperature(C)               0.159371         -0.036252          0.034794   \n",
       "Humidity(%)                  1.000000         -0.336683         -0.543090   \n",
       "Wind speed (m/s)            -0.336683          1.000000          0.171507   \n",
       "Visibility (10m)            -0.543090          0.171507          1.000000   \n",
       "Dew point temperature(C)     0.536894         -0.176486         -0.176630   \n",
       "Solar Radiation (MJ/m2)     -0.461919          0.332274          0.149738   \n",
       "Rainfall(mm)                 0.236397         -0.019674         -0.167629   \n",
       "Snowfall (cm)                0.108183         -0.003554         -0.121695   \n",
       "\n",
       "                          Dew point temperature(C)  Solar Radiation (MJ/m2)  \\\n",
       "Rented Bike Count                         0.379788                 0.261837   \n",
       "Hour                                      0.003054                 0.145131   \n",
       "Temperature(C)                            0.912798                 0.353505   \n",
       "Humidity(%)                               0.536894                -0.461919   \n",
       "Wind speed (m/s)                         -0.176486                 0.332274   \n",
       "Visibility (10m)                         -0.176630                 0.149738   \n",
       "Dew point temperature(C)                  1.000000                 0.094381   \n",
       "Solar Radiation (MJ/m2)                   0.094381                 1.000000   \n",
       "Rainfall(mm)                              0.125597                -0.074290   \n",
       "Snowfall (cm)                            -0.150887                -0.072301   \n",
       "\n",
       "                          Rainfall(mm)  Snowfall (cm)  \n",
       "Rented Bike Count            -0.123074      -0.141804  \n",
       "Hour                          0.008715      -0.021516  \n",
       "Temperature(C)                0.050282      -0.218405  \n",
       "Humidity(%)                   0.236397       0.108183  \n",
       "Wind speed (m/s)             -0.019674      -0.003554  \n",
       "Visibility (10m)             -0.167629      -0.121695  \n",
       "Dew point temperature(C)      0.125597      -0.150887  \n",
       "Solar Radiation (MJ/m2)      -0.074290      -0.072301  \n",
       "Rainfall(mm)                  1.000000       0.008500  \n",
       "Snowfall (cm)                 0.008500       1.000000  "
      ]
     },
     "execution_count": 178,
     "metadata": {},
     "output_type": "execute_result"
    }
   ],
   "source": [
    "df.corr()"
   ]
  },
  {
   "cell_type": "code",
   "execution_count": 179,
   "metadata": {},
   "outputs": [
    {
     "data": {
      "text/plain": [
       "<AxesSubplot:>"
      ]
     },
     "execution_count": 179,
     "metadata": {},
     "output_type": "execute_result"
    },
    {
     "data": {
      "image/png": "[encoded data removed]",
      "text/plain": [
       "<Figure size 432x288 with 2 Axes>"
      ]
     },
     "metadata": {
      "needs_background": "light"
     },
     "output_type": "display_data"
    }
   ],
   "source": [
    "sns.heatmap(df.corr())"
   ]
  },
  {
   "cell_type": "code",
   "execution_count": 180,
   "metadata": {},
   "outputs": [
    {
     "data": {
      "image/png": "[encoded data removed]",
      "text/plain": [
       "<Figure size 720x720 with 2 Axes>"
      ]
     },
     "metadata": {
      "needs_background": "light"
     },
     "output_type": "display_data"
    }
   ],
   "source": [
    "corr = df.corr()\n",
    "plt.figure(figsize=(10,10))\n",
    "sns.heatmap(corr, annot=True, cmap='cubehelix_r',square=True) \n",
    "plt.show()"
   ]
  },
  {
   "cell_type": "markdown",
   "metadata": {},
   "source": [
    "From the heatmap I can cleary see hour,Temp and Dew point Temperature have the highest correlation with number of rented bikes."
   ]
  },
  {
   "cell_type": "code",
   "execution_count": 181,
   "metadata": {},
   "outputs": [],
   "source": [
    "df.drop('Date',axis='columns', inplace=True)"
   ]
  },
  {
   "cell_type": "code",
   "execution_count": 182,
   "metadata": {},
   "outputs": [
    {
     "data": {
      "text/plain": [
       "Index(['Seasons', 'Holiday', 'Functioning Day'], dtype='object')"
      ]
     },
     "execution_count": 182,
     "metadata": {},
     "output_type": "execute_result"
    }
   ],
   "source": [
    "# filter the categorical features in the dataset using select_dtypes()\n",
    "# include=[np.object]: selects the categoric features\n",
    "\n",
    "df_categoric_features = df.select_dtypes(include = object)\n",
    "\n",
    "# display categorical features\n",
    "df_categoric_features.columns"
   ]
  },
  {
   "cell_type": "code",
   "execution_count": 183,
   "metadata": {},
   "outputs": [],
   "source": [
    "# use 'get_dummies()' from pandas to create dummy variables\n",
    "# use 'drop_first = True' to create (n-1) dummy variables\n",
    "dummy_encoded_variables = pd.get_dummies(df_categoric_features, drop_first = True)"
   ]
  },
  {
   "cell_type": "code",
   "execution_count": 184,
   "metadata": {},
   "outputs": [
    {
     "data": {
      "text/html": [
       "<div>\n",
       "<style scoped>\n",
       "    .dataframe tbody tr th:only-of-type {\n",
       "        vertical-align: middle;\n",
       "    }\n",
       "\n",
       "    .dataframe tbody tr th {\n",
       "        vertical-align: top;\n",
       "    }\n",
       "\n",
       "    .dataframe thead th {\n",
       "        text-align: right;\n",
       "    }\n",
       "</style>\n",
       "<table border=\"1\" class=\"dataframe\">\n",
       "  <thead>\n",
       "    <tr style=\"text-align: right;\">\n",
       "      <th></th>\n",
       "      <th>Rented Bike Count</th>\n",
       "      <th>Hour</th>\n",
       "      <th>Temperature(C)</th>\n",
       "      <th>Humidity(%)</th>\n",
       "      <th>Wind speed (m/s)</th>\n",
       "      <th>Visibility (10m)</th>\n",
       "      <th>Dew point temperature(C)</th>\n",
       "      <th>Solar Radiation (MJ/m2)</th>\n",
       "      <th>Rainfall(mm)</th>\n",
       "      <th>Snowfall (cm)</th>\n",
       "      <th>Seasons_Spring</th>\n",
       "      <th>Seasons_Summer</th>\n",
       "      <th>Seasons_Winter</th>\n",
       "      <th>Holiday_No Holiday</th>\n",
       "      <th>Functioning Day_Yes</th>\n",
       "    </tr>\n",
       "  </thead>\n",
       "  <tbody>\n",
       "    <tr>\n",
       "      <th>8755</th>\n",
       "      <td>1003</td>\n",
       "      <td>19</td>\n",
       "      <td>4.2</td>\n",
       "      <td>34</td>\n",
       "      <td>2.6</td>\n",
       "      <td>1894</td>\n",
       "      <td>-10.3</td>\n",
       "      <td>0.0</td>\n",
       "      <td>0.0</td>\n",
       "      <td>0.0</td>\n",
       "      <td>0</td>\n",
       "      <td>0</td>\n",
       "      <td>0</td>\n",
       "      <td>1</td>\n",
       "      <td>1</td>\n",
       "    </tr>\n",
       "    <tr>\n",
       "      <th>8756</th>\n",
       "      <td>764</td>\n",
       "      <td>20</td>\n",
       "      <td>3.4</td>\n",
       "      <td>37</td>\n",
       "      <td>2.3</td>\n",
       "      <td>2000</td>\n",
       "      <td>-9.9</td>\n",
       "      <td>0.0</td>\n",
       "      <td>0.0</td>\n",
       "      <td>0.0</td>\n",
       "      <td>0</td>\n",
       "      <td>0</td>\n",
       "      <td>0</td>\n",
       "      <td>1</td>\n",
       "      <td>1</td>\n",
       "    </tr>\n",
       "    <tr>\n",
       "      <th>8757</th>\n",
       "      <td>694</td>\n",
       "      <td>21</td>\n",
       "      <td>2.6</td>\n",
       "      <td>39</td>\n",
       "      <td>0.3</td>\n",
       "      <td>1968</td>\n",
       "      <td>-9.9</td>\n",
       "      <td>0.0</td>\n",
       "      <td>0.0</td>\n",
       "      <td>0.0</td>\n",
       "      <td>0</td>\n",
       "      <td>0</td>\n",
       "      <td>0</td>\n",
       "      <td>1</td>\n",
       "      <td>1</td>\n",
       "    </tr>\n",
       "    <tr>\n",
       "      <th>8758</th>\n",
       "      <td>712</td>\n",
       "      <td>22</td>\n",
       "      <td>2.1</td>\n",
       "      <td>41</td>\n",
       "      <td>1.0</td>\n",
       "      <td>1859</td>\n",
       "      <td>-9.8</td>\n",
       "      <td>0.0</td>\n",
       "      <td>0.0</td>\n",
       "      <td>0.0</td>\n",
       "      <td>0</td>\n",
       "      <td>0</td>\n",
       "      <td>0</td>\n",
       "      <td>1</td>\n",
       "      <td>1</td>\n",
       "    </tr>\n",
       "    <tr>\n",
       "      <th>8759</th>\n",
       "      <td>584</td>\n",
       "      <td>23</td>\n",
       "      <td>1.9</td>\n",
       "      <td>43</td>\n",
       "      <td>1.3</td>\n",
       "      <td>1909</td>\n",
       "      <td>-9.3</td>\n",
       "      <td>0.0</td>\n",
       "      <td>0.0</td>\n",
       "      <td>0.0</td>\n",
       "      <td>0</td>\n",
       "      <td>0</td>\n",
       "      <td>0</td>\n",
       "      <td>1</td>\n",
       "      <td>1</td>\n",
       "    </tr>\n",
       "  </tbody>\n",
       "</table>\n",
       "</div>"
      ],
      "text/plain": [
       "      Rented Bike Count  Hour  Temperature(C)  Humidity(%)  Wind speed (m/s)  \\\n",
       "8755               1003    19             4.2           34               2.6   \n",
       "8756                764    20             3.4           37               2.3   \n",
       "8757                694    21             2.6           39               0.3   \n",
       "8758                712    22             2.1           41               1.0   \n",
       "8759                584    23             1.9           43               1.3   \n",
       "\n",
       "      Visibility (10m)  Dew point temperature(C)  Solar Radiation (MJ/m2)  \\\n",
       "8755              1894                     -10.3                      0.0   \n",
       "8756              2000                      -9.9                      0.0   \n",
       "8757              1968                      -9.9                      0.0   \n",
       "8758              1859                      -9.8                      0.0   \n",
       "8759              1909                      -9.3                      0.0   \n",
       "\n",
       "      Rainfall(mm)  Snowfall (cm)  Seasons_Spring  Seasons_Summer  \\\n",
       "8755           0.0            0.0               0               0   \n",
       "8756           0.0            0.0               0               0   \n",
       "8757           0.0            0.0               0               0   \n",
       "8758           0.0            0.0               0               0   \n",
       "8759           0.0            0.0               0               0   \n",
       "\n",
       "      Seasons_Winter  Holiday_No Holiday  Functioning Day_Yes  \n",
       "8755               0                   1                    1  \n",
       "8756               0                   1                    1  \n",
       "8757               0                   1                    1  \n",
       "8758               0                   1                    1  \n",
       "8759               0                   1                    1  "
      ]
     },
     "execution_count": 184,
     "metadata": {},
     "output_type": "execute_result"
    }
   ],
   "source": [
    "# concatenate the numerical and dummy encoded categorical variables using concat()\n",
    "# axis=1: specifies that the concatenation is column wise\n",
    "df= pd.concat([df_numeric_features, dummy_encoded_variables], axis=1)\n",
    "\n",
    "# display data with dummy variables\n",
    "df.tail()"
   ]
  },
  {
   "cell_type": "markdown",
   "metadata": {},
   "source": [
    "# D"
   ]
  },
  {
   "cell_type": "code",
   "execution_count": 185,
   "metadata": {},
   "outputs": [],
   "source": [
    "from sklearn.model_selection import train_test_split\n",
    "train, val = train_test_split(df, test_size=0.25)"
   ]
  },
  {
   "cell_type": "code",
   "execution_count": 199,
   "metadata": {},
   "outputs": [],
   "source": [
    "#Spliting dataframe into train and test by manually as intially we have two dataframes train and test.\n",
    "df_train = df[2190:]\n",
    "df_test = df[2190:]"
   ]
  },
  {
   "cell_type": "code",
   "execution_count": 200,
   "metadata": {},
   "outputs": [],
   "source": [
    "train_x = train.drop(['Rented Bike Count'], axis = 1)\n",
    "train_y = train['Rented Bike Count']             \n",
    "\n",
    "val_x = val.drop(['Rented Bike Count'], axis = 1)\n",
    "val_y = val['Rented Bike Count']"
   ]
  },
  {
   "cell_type": "code",
   "execution_count": 201,
   "metadata": {},
   "outputs": [
    {
     "name": "stdout",
     "output_type": "stream",
     "text": [
      "Dimension of train_x dataframe: (6570, 14)\n",
      "Dimension of train_y dataframe: (6570,)\n",
      "Dimension of val_x dataframe: (2190, 14)\n",
      "Dimension of val_y dataframe: (2190,)\n"
     ]
    }
   ],
   "source": [
    "print('Dimension of train_x dataframe:',train_x.shape)\n",
    "print('Dimension of train_y dataframe:',train_y.shape)\n",
    "print('Dimension of val_x dataframe:',val_x.shape)\n",
    "print('Dimension of val_y dataframe:',val_y.shape)"
   ]
  },
  {
   "cell_type": "code",
   "execution_count": 202,
   "metadata": {},
   "outputs": [
    {
     "data": {
      "text/plain": [
       "LinearRegression()"
      ]
     },
     "execution_count": 202,
     "metadata": {},
     "output_type": "execute_result"
    }
   ],
   "source": [
    "from sklearn.linear_model import LinearRegression\n",
    "ln_reg = LinearRegression()\n",
    "ln_reg.fit(train_x, train_y)"
   ]
  },
  {
   "cell_type": "code",
   "execution_count": 203,
   "metadata": {},
   "outputs": [
    {
     "name": "stdout",
     "output_type": "stream",
     "text": [
      "Mean Absolute Error of linear regression: 319.7996704167725\n",
      "Mean Square Error of linear regression: 184133.95388109668\n",
      "R_Squared Score of linear regression: 0.2113635148167271\n"
     ]
    }
   ],
   "source": [
    "from sklearn.metrics import mean_squared_error,mean_absolute_error, r2_score\n",
    "\n",
    "df_pred = ln_reg.predict(val_x)\n",
    "print('Mean Absolute Error of linear regression:',mean_absolute_error(df_pred, val_y))\n",
    "print('Mean Square Error of linear regression:', mean_squared_error(df_pred, val_y))\n",
    "print('R_Squared Score of linear regression:', r2_score(df_pred, val_y))"
   ]
  },
  {
   "cell_type": "code",
   "execution_count": 211,
   "metadata": {},
   "outputs": [
    {
     "name": "stdout",
     "output_type": "stream",
     "text": [
      "The shape of X_train is: (6132, 14)\n",
      "The shape of X_test is: (2628, 14)\n",
      "The shape of y_train is: (6132, 1)\n",
      "The shape of y_test is: (2628, 1)\n"
     ]
    }
   ],
   "source": [
    "X = df.drop(['Rented Bike Count'], axis = 1)\n",
    "\n",
    "# extract the target variable from the data set\n",
    "y = df[['Rented Bike Count']]\n",
    "\n",
    "# split data into train subset and test subset for predictor and target variables\n",
    "# 'test_size' returns the proportion of data to be included in the test set\n",
    "# set 'random_state' to generate the same dataset each time you run the code \n",
    "X_train, X_test, y_train, y_test = train_test_split(X, y, test_size = 0.3, random_state = 1)\n",
    "\n",
    "# check the dimensions of the train & test subset for \n",
    "# print dimension of predictors train set\n",
    "print(\"The shape of X_train is:\",X_train.shape)\n",
    "\n",
    "# print dimension of predictors test set\n",
    "print(\"The shape of X_test is:\",X_test.shape)\n",
    "\n",
    "# print dimension of target train set\n",
    "print(\"The shape of y_train is:\",y_train.shape)\n",
    "\n",
    "# print dimension of target test set\n",
    "print(\"The shape of y_test is:\",y_test.shape)"
   ]
  },
  {
   "cell_type": "code",
   "execution_count": 212,
   "metadata": {},
   "outputs": [
    {
     "ename": "KeyError",
     "evalue": "'Rented Bike Count'",
     "output_type": "error",
     "traceback": [
      "\u001b[0;31m---------------------------------------------------------------------------\u001b[0m",
      "\u001b[0;31mKeyError\u001b[0m                                  Traceback (most recent call last)",
      "\u001b[0;32m/opt/anaconda3/lib/python3.8/site-packages/pandas/core/indexes/base.py\u001b[0m in \u001b[0;36mget_loc\u001b[0;34m(self, key, method, tolerance)\u001b[0m\n\u001b[1;32m   2894\u001b[0m             \u001b[0;32mtry\u001b[0m\u001b[0;34m:\u001b[0m\u001b[0;34m\u001b[0m\u001b[0;34m\u001b[0m\u001b[0m\n\u001b[0;32m-> 2895\u001b[0;31m                 \u001b[0;32mreturn\u001b[0m \u001b[0mself\u001b[0m\u001b[0;34m.\u001b[0m\u001b[0m_engine\u001b[0m\u001b[0;34m.\u001b[0m\u001b[0mget_loc\u001b[0m\u001b[0;34m(\u001b[0m\u001b[0mcasted_key\u001b[0m\u001b[0;34m)\u001b[0m\u001b[0;34m\u001b[0m\u001b[0;34m\u001b[0m\u001b[0m\n\u001b[0m\u001b[1;32m   2896\u001b[0m             \u001b[0;32mexcept\u001b[0m \u001b[0mKeyError\u001b[0m \u001b[0;32mas\u001b[0m \u001b[0merr\u001b[0m\u001b[0;34m:\u001b[0m\u001b[0;34m\u001b[0m\u001b[0;34m\u001b[0m\u001b[0m\n",
      "\u001b[0;32mpandas/_libs/index.pyx\u001b[0m in \u001b[0;36mpandas._libs.index.IndexEngine.get_loc\u001b[0;34m()\u001b[0m\n",
      "\u001b[0;32mpandas/_libs/index.pyx\u001b[0m in \u001b[0;36mpandas._libs.index.IndexEngine.get_loc\u001b[0;34m()\u001b[0m\n",
      "\u001b[0;32mpandas/_libs/index_class_helper.pxi\u001b[0m in \u001b[0;36mpandas._libs.index.Int64Engine._check_type\u001b[0;34m()\u001b[0m\n",
      "\u001b[0;31mKeyError\u001b[0m: 'Rented Bike Count'",
      "\nThe above exception was the direct cause of the following exception:\n",
      "\u001b[0;31mKeyError\u001b[0m                                  Traceback (most recent call last)",
      "\u001b[0;32m<ipython-input-212-f69d605f2042>\u001b[0m in \u001b[0;36m<module>\u001b[0;34m\u001b[0m\n\u001b[1;32m      1\u001b[0m \u001b[0;32mimport\u001b[0m \u001b[0mstatsmodels\u001b[0m\u001b[0;34m.\u001b[0m\u001b[0mapi\u001b[0m \u001b[0;32mas\u001b[0m \u001b[0msm\u001b[0m\u001b[0;34m\u001b[0m\u001b[0;34m\u001b[0m\u001b[0m\n\u001b[0;32m----> 2\u001b[0;31m \u001b[0mlinreg_full_model\u001b[0m \u001b[0;34m=\u001b[0m \u001b[0msm\u001b[0m\u001b[0;34m.\u001b[0m\u001b[0mOLS\u001b[0m\u001b[0;34m(\u001b[0m\u001b[0mtrain_y\u001b[0m\u001b[0;34m[\u001b[0m\u001b[0;34m'Rented Bike Count'\u001b[0m\u001b[0;34m]\u001b[0m\u001b[0;34m,\u001b[0m \u001b[0mtrain_x\u001b[0m\u001b[0;34m)\u001b[0m\u001b[0;34m.\u001b[0m\u001b[0mfit\u001b[0m\u001b[0;34m(\u001b[0m\u001b[0;34m)\u001b[0m\u001b[0;34m\u001b[0m\u001b[0;34m\u001b[0m\u001b[0m\n\u001b[0m\u001b[1;32m      3\u001b[0m \u001b[0;34m\u001b[0m\u001b[0m\n\u001b[1;32m      4\u001b[0m \u001b[0;31m# print the summary output\u001b[0m\u001b[0;34m\u001b[0m\u001b[0;34m\u001b[0m\u001b[0;34m\u001b[0m\u001b[0m\n\u001b[1;32m      5\u001b[0m \u001b[0mprint\u001b[0m\u001b[0;34m(\u001b[0m\u001b[0mlinreg_full_model\u001b[0m\u001b[0;34m.\u001b[0m\u001b[0msummary\u001b[0m\u001b[0;34m(\u001b[0m\u001b[0;34m)\u001b[0m\u001b[0;34m)\u001b[0m\u001b[0;34m\u001b[0m\u001b[0;34m\u001b[0m\u001b[0m\n",
      "\u001b[0;32m/opt/anaconda3/lib/python3.8/site-packages/pandas/core/series.py\u001b[0m in \u001b[0;36m__getitem__\u001b[0;34m(self, key)\u001b[0m\n\u001b[1;32m    880\u001b[0m \u001b[0;34m\u001b[0m\u001b[0m\n\u001b[1;32m    881\u001b[0m         \u001b[0;32melif\u001b[0m \u001b[0mkey_is_scalar\u001b[0m\u001b[0;34m:\u001b[0m\u001b[0;34m\u001b[0m\u001b[0;34m\u001b[0m\u001b[0m\n\u001b[0;32m--> 882\u001b[0;31m             \u001b[0;32mreturn\u001b[0m \u001b[0mself\u001b[0m\u001b[0;34m.\u001b[0m\u001b[0m_get_value\u001b[0m\u001b[0;34m(\u001b[0m\u001b[0mkey\u001b[0m\u001b[0;34m)\u001b[0m\u001b[0;34m\u001b[0m\u001b[0;34m\u001b[0m\u001b[0m\n\u001b[0m\u001b[1;32m    883\u001b[0m \u001b[0;34m\u001b[0m\u001b[0m\n\u001b[1;32m    884\u001b[0m         \u001b[0;32mif\u001b[0m \u001b[0mis_hashable\u001b[0m\u001b[0;34m(\u001b[0m\u001b[0mkey\u001b[0m\u001b[0;34m)\u001b[0m\u001b[0;34m:\u001b[0m\u001b[0;34m\u001b[0m\u001b[0;34m\u001b[0m\u001b[0m\n",
      "\u001b[0;32m/opt/anaconda3/lib/python3.8/site-packages/pandas/core/series.py\u001b[0m in \u001b[0;36m_get_value\u001b[0;34m(self, label, takeable)\u001b[0m\n\u001b[1;32m    987\u001b[0m \u001b[0;34m\u001b[0m\u001b[0m\n\u001b[1;32m    988\u001b[0m         \u001b[0;31m# Similar to Index.get_value, but we do not fall back to positional\u001b[0m\u001b[0;34m\u001b[0m\u001b[0;34m\u001b[0m\u001b[0;34m\u001b[0m\u001b[0m\n\u001b[0;32m--> 989\u001b[0;31m         \u001b[0mloc\u001b[0m \u001b[0;34m=\u001b[0m \u001b[0mself\u001b[0m\u001b[0;34m.\u001b[0m\u001b[0mindex\u001b[0m\u001b[0;34m.\u001b[0m\u001b[0mget_loc\u001b[0m\u001b[0;34m(\u001b[0m\u001b[0mlabel\u001b[0m\u001b[0;34m)\u001b[0m\u001b[0;34m\u001b[0m\u001b[0;34m\u001b[0m\u001b[0m\n\u001b[0m\u001b[1;32m    990\u001b[0m         \u001b[0;32mreturn\u001b[0m \u001b[0mself\u001b[0m\u001b[0;34m.\u001b[0m\u001b[0mindex\u001b[0m\u001b[0;34m.\u001b[0m\u001b[0m_get_values_for_loc\u001b[0m\u001b[0;34m(\u001b[0m\u001b[0mself\u001b[0m\u001b[0;34m,\u001b[0m \u001b[0mloc\u001b[0m\u001b[0;34m,\u001b[0m \u001b[0mlabel\u001b[0m\u001b[0;34m)\u001b[0m\u001b[0;34m\u001b[0m\u001b[0;34m\u001b[0m\u001b[0m\n\u001b[1;32m    991\u001b[0m \u001b[0;34m\u001b[0m\u001b[0m\n",
      "\u001b[0;32m/opt/anaconda3/lib/python3.8/site-packages/pandas/core/indexes/base.py\u001b[0m in \u001b[0;36mget_loc\u001b[0;34m(self, key, method, tolerance)\u001b[0m\n\u001b[1;32m   2895\u001b[0m                 \u001b[0;32mreturn\u001b[0m \u001b[0mself\u001b[0m\u001b[0;34m.\u001b[0m\u001b[0m_engine\u001b[0m\u001b[0;34m.\u001b[0m\u001b[0mget_loc\u001b[0m\u001b[0;34m(\u001b[0m\u001b[0mcasted_key\u001b[0m\u001b[0;34m)\u001b[0m\u001b[0;34m\u001b[0m\u001b[0;34m\u001b[0m\u001b[0m\n\u001b[1;32m   2896\u001b[0m             \u001b[0;32mexcept\u001b[0m \u001b[0mKeyError\u001b[0m \u001b[0;32mas\u001b[0m \u001b[0merr\u001b[0m\u001b[0;34m:\u001b[0m\u001b[0;34m\u001b[0m\u001b[0;34m\u001b[0m\u001b[0m\n\u001b[0;32m-> 2897\u001b[0;31m                 \u001b[0;32mraise\u001b[0m \u001b[0mKeyError\u001b[0m\u001b[0;34m(\u001b[0m\u001b[0mkey\u001b[0m\u001b[0;34m)\u001b[0m \u001b[0;32mfrom\u001b[0m \u001b[0merr\u001b[0m\u001b[0;34m\u001b[0m\u001b[0;34m\u001b[0m\u001b[0m\n\u001b[0m\u001b[1;32m   2898\u001b[0m \u001b[0;34m\u001b[0m\u001b[0m\n\u001b[1;32m   2899\u001b[0m         \u001b[0;32mif\u001b[0m \u001b[0mtolerance\u001b[0m \u001b[0;32mis\u001b[0m \u001b[0;32mnot\u001b[0m \u001b[0;32mNone\u001b[0m\u001b[0;34m:\u001b[0m\u001b[0;34m\u001b[0m\u001b[0;34m\u001b[0m\u001b[0m\n",
      "\u001b[0;31mKeyError\u001b[0m: 'Rented Bike Count'"
     ]
    }
   ],
   "source": [
    "import statsmodels.api as sm\n",
    "linreg_full_model = sm.OLS(train_y['Rented Bike Count'], train_x).fit()\n",
    "\n",
    "# print the summary output\n",
    "print(linreg_full_model.summary())"
   ]
  },
  {
   "cell_type": "code",
   "execution_count": 205,
   "metadata": {},
   "outputs": [
    {
     "ename": "ValueError",
     "evalue": "matmul: Input operand 1 has a mismatch in its core dimension 0, with gufunc signature (n?,k),(k,m?)->(n?,m?) (size 14 is different from 15)",
     "output_type": "error",
     "traceback": [
      "\u001b[0;31m---------------------------------------------------------------------------\u001b[0m",
      "\u001b[0;31mValueError\u001b[0m                                Traceback (most recent call last)",
      "\u001b[0;32m<ipython-input-205-fa6054f1588c>\u001b[0m in \u001b[0;36m<module>\u001b[0;34m\u001b[0m\n\u001b[0;32m----> 1\u001b[0;31m \u001b[0mpredic_test\u001b[0m \u001b[0;34m=\u001b[0m \u001b[0mln_reg\u001b[0m\u001b[0;34m.\u001b[0m\u001b[0mpredict\u001b[0m\u001b[0;34m(\u001b[0m\u001b[0mdf_test\u001b[0m\u001b[0;34m)\u001b[0m\u001b[0;34m\u001b[0m\u001b[0;34m\u001b[0m\u001b[0m\n\u001b[0m\u001b[1;32m      2\u001b[0m \u001b[0mRBC\u001b[0m \u001b[0;34m=\u001b[0m \u001b[0;34m(\u001b[0m\u001b[0;34m'Rented Bike Count'\u001b[0m\u001b[0;34m)\u001b[0m\u001b[0;34m\u001b[0m\u001b[0;34m\u001b[0m\u001b[0m\n\u001b[1;32m      3\u001b[0m \u001b[0;31m#Create Sample Submission file\u001b[0m\u001b[0;34m\u001b[0m\u001b[0;34m\u001b[0m\u001b[0;34m\u001b[0m\u001b[0m\n\u001b[1;32m      4\u001b[0m \u001b[0msubmission_data\u001b[0m \u001b[0;34m=\u001b[0m \u001b[0mpd\u001b[0m\u001b[0;34m.\u001b[0m\u001b[0mDataFrame\u001b[0m\u001b[0;34m(\u001b[0m\u001b[0;34m{\u001b[0m\u001b[0;34m'Id'\u001b[0m\u001b[0;34m:\u001b[0m\u001b[0mtest\u001b[0m\u001b[0;34m.\u001b[0m\u001b[0mId\u001b[0m\u001b[0;34m,\u001b[0m\u001b[0;34m'RBC'\u001b[0m\u001b[0;34m:\u001b[0m\u001b[0mpredic_test\u001b[0m\u001b[0;34m}\u001b[0m\u001b[0;34m)\u001b[0m\u001b[0;34m\u001b[0m\u001b[0;34m\u001b[0m\u001b[0m\n\u001b[1;32m      5\u001b[0m \u001b[0msubmission_data\u001b[0m\u001b[0;34m\u001b[0m\u001b[0;34m\u001b[0m\u001b[0m\n",
      "\u001b[0;32m/opt/anaconda3/lib/python3.8/site-packages/sklearn/linear_model/_base.py\u001b[0m in \u001b[0;36mpredict\u001b[0;34m(self, X)\u001b[0m\n\u001b[1;32m    234\u001b[0m             \u001b[0mReturns\u001b[0m \u001b[0mpredicted\u001b[0m \u001b[0mvalues\u001b[0m\u001b[0;34m.\u001b[0m\u001b[0;34m\u001b[0m\u001b[0;34m\u001b[0m\u001b[0m\n\u001b[1;32m    235\u001b[0m         \"\"\"\n\u001b[0;32m--> 236\u001b[0;31m         \u001b[0;32mreturn\u001b[0m \u001b[0mself\u001b[0m\u001b[0;34m.\u001b[0m\u001b[0m_decision_function\u001b[0m\u001b[0;34m(\u001b[0m\u001b[0mX\u001b[0m\u001b[0;34m)\u001b[0m\u001b[0;34m\u001b[0m\u001b[0;34m\u001b[0m\u001b[0m\n\u001b[0m\u001b[1;32m    237\u001b[0m \u001b[0;34m\u001b[0m\u001b[0m\n\u001b[1;32m    238\u001b[0m     \u001b[0m_preprocess_data\u001b[0m \u001b[0;34m=\u001b[0m \u001b[0mstaticmethod\u001b[0m\u001b[0;34m(\u001b[0m\u001b[0m_preprocess_data\u001b[0m\u001b[0;34m)\u001b[0m\u001b[0;34m\u001b[0m\u001b[0;34m\u001b[0m\u001b[0m\n",
      "\u001b[0;32m/opt/anaconda3/lib/python3.8/site-packages/sklearn/linear_model/_base.py\u001b[0m in \u001b[0;36m_decision_function\u001b[0;34m(self, X)\u001b[0m\n\u001b[1;32m    217\u001b[0m \u001b[0;34m\u001b[0m\u001b[0m\n\u001b[1;32m    218\u001b[0m         \u001b[0mX\u001b[0m \u001b[0;34m=\u001b[0m \u001b[0mcheck_array\u001b[0m\u001b[0;34m(\u001b[0m\u001b[0mX\u001b[0m\u001b[0;34m,\u001b[0m \u001b[0maccept_sparse\u001b[0m\u001b[0;34m=\u001b[0m\u001b[0;34m[\u001b[0m\u001b[0;34m'csr'\u001b[0m\u001b[0;34m,\u001b[0m \u001b[0;34m'csc'\u001b[0m\u001b[0;34m,\u001b[0m \u001b[0;34m'coo'\u001b[0m\u001b[0;34m]\u001b[0m\u001b[0;34m)\u001b[0m\u001b[0;34m\u001b[0m\u001b[0;34m\u001b[0m\u001b[0m\n\u001b[0;32m--> 219\u001b[0;31m         return safe_sparse_dot(X, self.coef_.T,\n\u001b[0m\u001b[1;32m    220\u001b[0m                                dense_output=True) + self.intercept_\n\u001b[1;32m    221\u001b[0m \u001b[0;34m\u001b[0m\u001b[0m\n",
      "\u001b[0;32m/opt/anaconda3/lib/python3.8/site-packages/sklearn/utils/validation.py\u001b[0m in \u001b[0;36minner_f\u001b[0;34m(*args, **kwargs)\u001b[0m\n\u001b[1;32m     70\u001b[0m                           FutureWarning)\n\u001b[1;32m     71\u001b[0m         \u001b[0mkwargs\u001b[0m\u001b[0;34m.\u001b[0m\u001b[0mupdate\u001b[0m\u001b[0;34m(\u001b[0m\u001b[0;34m{\u001b[0m\u001b[0mk\u001b[0m\u001b[0;34m:\u001b[0m \u001b[0marg\u001b[0m \u001b[0;32mfor\u001b[0m \u001b[0mk\u001b[0m\u001b[0;34m,\u001b[0m \u001b[0marg\u001b[0m \u001b[0;32min\u001b[0m \u001b[0mzip\u001b[0m\u001b[0;34m(\u001b[0m\u001b[0msig\u001b[0m\u001b[0;34m.\u001b[0m\u001b[0mparameters\u001b[0m\u001b[0;34m,\u001b[0m \u001b[0margs\u001b[0m\u001b[0;34m)\u001b[0m\u001b[0;34m}\u001b[0m\u001b[0;34m)\u001b[0m\u001b[0;34m\u001b[0m\u001b[0;34m\u001b[0m\u001b[0m\n\u001b[0;32m---> 72\u001b[0;31m         \u001b[0;32mreturn\u001b[0m \u001b[0mf\u001b[0m\u001b[0;34m(\u001b[0m\u001b[0;34m**\u001b[0m\u001b[0mkwargs\u001b[0m\u001b[0;34m)\u001b[0m\u001b[0;34m\u001b[0m\u001b[0;34m\u001b[0m\u001b[0m\n\u001b[0m\u001b[1;32m     73\u001b[0m     \u001b[0;32mreturn\u001b[0m \u001b[0minner_f\u001b[0m\u001b[0;34m\u001b[0m\u001b[0;34m\u001b[0m\u001b[0m\n\u001b[1;32m     74\u001b[0m \u001b[0;34m\u001b[0m\u001b[0m\n",
      "\u001b[0;32m/opt/anaconda3/lib/python3.8/site-packages/sklearn/utils/extmath.py\u001b[0m in \u001b[0;36msafe_sparse_dot\u001b[0;34m(a, b, dense_output)\u001b[0m\n\u001b[1;32m    151\u001b[0m             \u001b[0mret\u001b[0m \u001b[0;34m=\u001b[0m \u001b[0mnp\u001b[0m\u001b[0;34m.\u001b[0m\u001b[0mdot\u001b[0m\u001b[0;34m(\u001b[0m\u001b[0ma\u001b[0m\u001b[0;34m,\u001b[0m \u001b[0mb\u001b[0m\u001b[0;34m)\u001b[0m\u001b[0;34m\u001b[0m\u001b[0;34m\u001b[0m\u001b[0m\n\u001b[1;32m    152\u001b[0m     \u001b[0;32melse\u001b[0m\u001b[0;34m:\u001b[0m\u001b[0;34m\u001b[0m\u001b[0;34m\u001b[0m\u001b[0m\n\u001b[0;32m--> 153\u001b[0;31m         \u001b[0mret\u001b[0m \u001b[0;34m=\u001b[0m \u001b[0ma\u001b[0m \u001b[0;34m@\u001b[0m \u001b[0mb\u001b[0m\u001b[0;34m\u001b[0m\u001b[0;34m\u001b[0m\u001b[0m\n\u001b[0m\u001b[1;32m    154\u001b[0m \u001b[0;34m\u001b[0m\u001b[0m\n\u001b[1;32m    155\u001b[0m     if (sparse.issparse(a) and sparse.issparse(b)\n",
      "\u001b[0;31mValueError\u001b[0m: matmul: Input operand 1 has a mismatch in its core dimension 0, with gufunc signature (n?,k),(k,m?)->(n?,m?) (size 14 is different from 15)"
     ]
    }
   ],
   "source": [
    "predic_test = ln_reg.predict(df_test)\n",
    "\n",
    "#Create Sample Submission file \n",
    "submission_data = pd.DataFrame({'Id':test.Id,'RBC':predic_test})\n",
    "submission_data\n",
    "val_y = pd.DataFrame(val_y)\n",
    "val_y['Predicted'] = submission_data['Pred_RBC']\n",
    "\n",
    "val_y"
   ]
  },
  {
   "cell_type": "code",
   "execution_count": null,
   "metadata": {},
   "outputs": [],
   "source": []
  }
 ],
 "metadata": {
  "kernelspec": {
   "display_name": "Python 3",
   "language": "python",
   "name": "python3"
  },
  "language_info": {
   "codemirror_mode": {
    "name": "ipython",
    "version": 3
   },
   "file_extension": ".py",
   "mimetype": "text/x-python",
   "name": "python",
   "nbconvert_exporter": "python",
   "pygments_lexer": "ipython3",
   "version": "3.8.5"
  }
 },
 "nbformat": 4,
 "nbformat_minor": 4
}
